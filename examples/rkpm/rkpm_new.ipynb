{
 "cells": [
  {
   "cell_type": "markdown",
   "metadata": {},
   "source": [
    "# The reproducing kernel particle method."
   ]
  },
  {
   "cell_type": "code",
   "execution_count": 1,
   "metadata": {
    "collapsed": true,
    "deletable": true,
    "editable": true
   },
   "outputs": [],
   "source": [
    "from popcorn import *\n",
    "from popcorn.functional import *\n",
    "init_printing()"
   ]
  },
  {
   "cell_type": "markdown",
   "metadata": {
    "deletable": true,
    "editable": true
   },
   "source": [
    "This notebook generates a kernel for the heat equation using the reproducing kernel partical method.\n",
    "The hyperedge looks like a cloud of points $x$ in the support $H(y)$ around an EvalPt $y$, with the following order of the edge:\n",
    "```\n",
    "   x1         x2\n",
    "           x3\n",
    "     x4\n",
    "  x5   y0  x7\n",
    "    x8         x6\n",
    "\n",
    "          v-- DOFs in H(y) are packed in the back\n",
    "  [ y0 ] [ x1 x2 .... xl_edge ]\n",
    "   ^-- Eval pt is first Vertex\n",
    "```\n",
    "The hyperedge has a variable length. The first vertex is the Eval node (0 to 1), and the remaining are DOF Pts, (1 to l\\_edge). Vertex -1 denotes a global variable."
   ]
  },
  {
   "cell_type": "code",
   "execution_count": 2,
   "metadata": {
    "collapsed": true,
    "deletable": true,
    "editable": true
   },
   "outputs": [],
   "source": [
    "gdim=2\n",
    "II, JJ, l_edge = symbols('II JJ l_edge')\n",
    "Npt = l_edge - 1\n",
    "EvalVec = DofSpace(gdim, 0,1)\n",
    "EvalSca = DofSpace(1, 0,1)\n",
    "PtVec = DofSpace(gdim, 1,l_edge)\n",
    "PtSca = DofSpace(1, 1,l_edge)\n",
    "Param = DofSpace(1, -1)"
   ]
  },
  {
   "cell_type": "markdown",
   "metadata": {
    "deletable": true,
    "editable": true
   },
   "source": [
    "Theres are our inputs: $y$ is the location of the evaluation point, $sup$ and $w$ are the support radius and gauss weight associated with that point. Then, $x$ and $u$ are the point of the DOF node and the value of the scalar field coefficient at that node. For these class of methods, note that $u(x_I)\\neq u_I$!"
   ]
  },
  {
   "cell_type": "code",
   "execution_count": 3,
   "metadata": {
    "collapsed": true,
    "deletable": true,
    "editable": true
   },
   "outputs": [],
   "source": [
    "i_y = Input('y', EvalVec)\n",
    "i_sup = Input('sup', EvalSca)\n",
    "i_w = Input('w',EvalSca)\n",
    "i_x = Input('x', PtVec)\n",
    "i_u = Input('u', PtSca)\n",
    "i_params = Input('params', Param)\n",
    "i_lambda = Input('lambda',EvalSca)\n",
    "i_ubar   = Input('ubar',EvalSca)"
   ]
  },
  {
   "cell_type": "markdown",
   "metadata": {},
   "source": [
    "Since `i_u` is a variable length input, we can't manipulate it directly, need to get the degrees of freedom with a symbolic array reference:"
   ]
  },
  {
   "cell_type": "code",
   "execution_count": 4,
   "metadata": {
    "collapsed": false,
    "deletable": true,
    "editable": true
   },
   "outputs": [
    {
     "data": {
      "image/png": "[encoded data removed]",
      "text/latex": [
       "$$\\left[\\begin{matrix}u[II]\\end{matrix}\\right]$$"
      ],
      "text/plain": [
       "[u[II]]"
      ]
     },
     "execution_count": 4,
     "metadata": {},
     "output_type": "execute_result"
    }
   ],
   "source": [
    "uI = i_u.Vertex_Handle(II)\n",
    "uI"
   ]
  },
  {
   "cell_type": "markdown",
   "metadata": {
    "deletable": true,
    "editable": true
   },
   "source": [
    "Now define some field $u$ with a test $\\delta u$. The functional we are solving is a weak form equation\n",
    "\\begin{equation}\n",
    "0= \\int_\\Omega \\nabla \\delta u \\cdot \\nabla u + \\delta u f \\,\\mathrm{d}x \\quad \\forall \\delta u\n",
    "\\end{equation}\n",
    "We create two popcorn field objects and use them to symbolically create the potential density $P$:"
   ]
  },
  {
   "cell_type": "code",
   "execution_count": 5,
   "metadata": {
    "collapsed": false,
    "deletable": true,
    "editable": true
   },
   "outputs": [
    {
     "data": {
      "image/png": "[encoded data removed]",
      "text/latex": [
       "$$field_{tu[0]} + grad_{field tu[0]} grad_{field u[0]} + grad_{field tu[1]} grad_{field u[1]}$$"
      ],
      "text/plain": [
       "field_tu[0] + grad_field_tu[0]⋅grad_field_u[0] + grad_field_tu[1]⋅grad_field_u\n",
       "[1]"
      ]
     },
     "execution_count": 5,
     "metadata": {},
     "output_type": "execute_result"
    }
   ],
   "source": [
    "# Scalar solution and a test\n",
    "u = Field(\"u\",gdim,0)\n",
    "tu = Field(\"tu\",gdim,0)\n",
    "# Make the funtional\n",
    "P = inner(grad(tu),grad(u)) + tu[0]*1\n",
    "# Annoying matrix behavior for the scalar tu[0]\n",
    "P"
   ]
  },
  {
   "cell_type": "markdown",
   "metadata": {
    "deletable": true,
    "editable": true
   },
   "source": [
    "Now lets make our RKPM object using the helper functions written in\n",
    "[rkpm_lib.py](rkpm_lib.py). It needs to take in the inputs to the hypervertex description for the nodes and eval point, a symbol or fixed number for the support radius, and then the hyperparameter choice.\n",
    "\n",
    "These methods have three **hyperparameters**:\n",
    "1. The polynomial basis functions\n",
    "2. The radial basis function\n",
    "3. How to compute the gradients\n",
    "\n",
    "Let's walk through an easy one first."
   ]
  },
  {
   "cell_type": "code",
   "execution_count": 6,
   "metadata": {
    "collapsed": false,
    "deletable": true,
    "editable": true
   },
   "outputs": [
    {
     "name": "stdout",
     "output_type": "stream",
     "text": [
      "Matrix([[x[2*II] - y[0]], [x[2*II + 1] - y[1]]])\n"
     ]
    }
   ],
   "source": [
    "from rkpm_lib import *\n",
    "RKPM = RKPM_Basis(i_x,i_y.as_matrix(),i_sup[0], Polys[1],Weights['quarticB'])"
   ]
  },
  {
   "cell_type": "code",
   "execution_count": 7,
   "metadata": {
    "collapsed": false,
    "deletable": true,
    "editable": true
   },
   "outputs": [
    {
     "name": "stdout",
     "output_type": "stream",
     "text": [
      "(3, 3)\n"
     ]
    },
    {
     "data": {
      "image/png": "[encoded data removed]",
      "text/latex": [
       "$$\\left[\\begin{matrix}0.666666666666667 - \\frac{1}{sup[0]^{2}} \\left(4.5 \\left(x[2*II + 1] - y[1]\\right)^{2} + 4.5 \\left(x[2*II] - y[0]\\right)^{2}\\right) + \\frac{6.33333333333333}{sup[0]^{3}} \\left(\\left(x[2*II + 1] - y[1]\\right)^{2} + \\left(x[2*II] - y[0]\\right)^{2}\\right)^{\\frac{3}{2}} - \\frac{2.5}{sup[0]^{4}} \\left(\\left(x[2*II + 1] - y[1]\\right)^{2} + \\left(x[2*II] - y[0]\\right)^{2}\\right)^{2} & \\left(x[2*II] - y[0]\\right) \\left(0.666666666666667 - \\frac{1}{sup[0]^{2}} \\left(4.5 \\left(x[2*II + 1] - y[1]\\right)^{2} + 4.5 \\left(x[2*II] - y[0]\\right)^{2}\\right) + \\frac{6.33333333333333}{sup[0]^{3}} \\left(\\left(x[2*II + 1] - y[1]\\right)^{2} + \\left(x[2*II] - y[0]\\right)^{2}\\right)^{\\frac{3}{2}} - \\frac{2.5}{sup[0]^{4}} \\left(\\left(x[2*II + 1] - y[1]\\right)^{2} + \\left(x[2*II] - y[0]\\right)^{2}\\right)^{2}\\right) & \\left(x[2*II + 1] - y[1]\\right) \\left(0.666666666666667 - \\frac{1}{sup[0]^{2}} \\left(4.5 \\left(x[2*II + 1] - y[1]\\right)^{2} + 4.5 \\left(x[2*II] - y[0]\\right)^{2}\\right) + \\frac{6.33333333333333}{sup[0]^{3}} \\left(\\left(x[2*II + 1] - y[1]\\right)^{2} + \\left(x[2*II] - y[0]\\right)^{2}\\right)^{\\frac{3}{2}} - \\frac{2.5}{sup[0]^{4}} \\left(\\left(x[2*II + 1] - y[1]\\right)^{2} + \\left(x[2*II] - y[0]\\right)^{2}\\right)^{2}\\right)\\\\1.0 \\left(x[2*II] - y[0]\\right) \\left(0.666666666666667 - \\frac{1}{sup[0]^{2}} \\left(4.5 \\left(x[2*II + 1] - y[1]\\right)^{2} + 4.5 \\left(x[2*II] - y[0]\\right)^{2}\\right) + \\frac{6.33333333333333}{sup[0]^{3}} \\left(\\left(x[2*II + 1] - y[1]\\right)^{2} + \\left(x[2*II] - y[0]\\right)^{2}\\right)^{\\frac{3}{2}} - \\frac{2.5}{sup[0]^{4}} \\left(\\left(x[2*II + 1] - y[1]\\right)^{2} + \\left(x[2*II] - y[0]\\right)^{2}\\right)^{2}\\right) & \\left(x[2*II] - y[0]\\right)^{2} \\left(0.666666666666667 - \\frac{1}{sup[0]^{2}} \\left(4.5 \\left(x[2*II + 1] - y[1]\\right)^{2} + 4.5 \\left(x[2*II] - y[0]\\right)^{2}\\right) + \\frac{6.33333333333333}{sup[0]^{3}} \\left(\\left(x[2*II + 1] - y[1]\\right)^{2} + \\left(x[2*II] - y[0]\\right)^{2}\\right)^{\\frac{3}{2}} - \\frac{2.5}{sup[0]^{4}} \\left(\\left(x[2*II + 1] - y[1]\\right)^{2} + \\left(x[2*II] - y[0]\\right)^{2}\\right)^{2}\\right) & \\left(x[2*II + 1] - y[1]\\right) \\left(x[2*II] - y[0]\\right) \\left(0.666666666666667 - \\frac{1}{sup[0]^{2}} \\left(4.5 \\left(x[2*II + 1] - y[1]\\right)^{2} + 4.5 \\left(x[2*II] - y[0]\\right)^{2}\\right) + \\frac{6.33333333333333}{sup[0]^{3}} \\left(\\left(x[2*II + 1] - y[1]\\right)^{2} + \\left(x[2*II] - y[0]\\right)^{2}\\right)^{\\frac{3}{2}} - \\frac{2.5}{sup[0]^{4}} \\left(\\left(x[2*II + 1] - y[1]\\right)^{2} + \\left(x[2*II] - y[0]\\right)^{2}\\right)^{2}\\right)\\\\1.0 \\left(x[2*II + 1] - y[1]\\right) \\left(0.666666666666667 - \\frac{1}{sup[0]^{2}} \\left(4.5 \\left(x[2*II + 1] - y[1]\\right)^{2} + 4.5 \\left(x[2*II] - y[0]\\right)^{2}\\right) + \\frac{6.33333333333333}{sup[0]^{3}} \\left(\\left(x[2*II + 1] - y[1]\\right)^{2} + \\left(x[2*II] - y[0]\\right)^{2}\\right)^{\\frac{3}{2}} - \\frac{2.5}{sup[0]^{4}} \\left(\\left(x[2*II + 1] - y[1]\\right)^{2} + \\left(x[2*II] - y[0]\\right)^{2}\\right)^{2}\\right) & \\left(x[2*II + 1] - y[1]\\right) \\left(x[2*II] - y[0]\\right) \\left(0.666666666666667 - \\frac{1}{sup[0]^{2}} \\left(4.5 \\left(x[2*II + 1] - y[1]\\right)^{2} + 4.5 \\left(x[2*II] - y[0]\\right)^{2}\\right) + \\frac{6.33333333333333}{sup[0]^{3}} \\left(\\left(x[2*II + 1] - y[1]\\right)^{2} + \\left(x[2*II] - y[0]\\right)^{2}\\right)^{\\frac{3}{2}} - \\frac{2.5}{sup[0]^{4}} \\left(\\left(x[2*II + 1] - y[1]\\right)^{2} + \\left(x[2*II] - y[0]\\right)^{2}\\right)^{2}\\right) & \\left(x[2*II + 1] - y[1]\\right)^{2} \\left(0.666666666666667 - \\frac{1}{sup[0]^{2}} \\left(4.5 \\left(x[2*II + 1] - y[1]\\right)^{2} + 4.5 \\left(x[2*II] - y[0]\\right)^{2}\\right) + \\frac{6.33333333333333}{sup[0]^{3}} \\left(\\left(x[2*II + 1] - y[1]\\right)^{2} + \\left(x[2*II] - y[0]\\right)^{2}\\right)^{\\frac{3}{2}} - \\frac{2.5}{sup[0]^{4}} \\left(\\left(x[2*II + 1] - y[1]\\right)^{2} + \\left(x[2*II] - y[0]\\right)^{2}\\right)^{2}\\right)\\end{matrix}\\right]$$"
      ],
      "text/plain": [
       "⎡                                                                             \n",
       "⎢                                     ⎛                    2                  \n",
       "⎢                                 4.5⋅⎝(x[2*II + 1] - y[1])  + (x[2*II] - y[0]\n",
       "⎢             0.666666666666667 - ────────────────────────────────────────────\n",
       "⎢                                                           2                 \n",
       "⎢                                                     sup[0]                  \n",
       "⎢                                                                             \n",
       "⎢                       ⎛                                                     \n",
       "⎢                       ⎜                        ⎛                    2       \n",
       "⎢                       ⎜                    4.5⋅⎝(x[2*II + 1] - y[1])  + (x[2\n",
       "⎢  1.0⋅(x[2*II] - y[0])⋅⎜0.666666666666667 - ─────────────────────────────────\n",
       "⎢                       ⎜                                              2      \n",
       "⎢                       ⎝                                        sup[0]       \n",
       "⎢                                                                             \n",
       "⎢                         ⎛                                                   \n",
       "⎢                         ⎜                        ⎛                    2     \n",
       "⎢                         ⎜                    4.5⋅⎝(x[2*II + 1] - y[1])  + (x\n",
       "⎢1.0⋅(x[2*II + 1] - y[1])⋅⎜0.666666666666667 - ───────────────────────────────\n",
       "⎢                         ⎜                                              2    \n",
       "⎣                         ⎝                                        sup[0]     \n",
       "\n",
       "                                                                  3/2         \n",
       " 2⎞                    ⎛                    2                   2⎞          ⎛ \n",
       ") ⎠   6.33333333333333⋅⎝(x[2*II + 1] - y[1])  + (x[2*II] - y[0]) ⎠      2.5⋅⎝(\n",
       "─── + ─────────────────────────────────────────────────────────────── - ──────\n",
       "                                        3                                     \n",
       "                                  sup[0]                                      \n",
       "                                                                              \n",
       "                                                                             3\n",
       "            2⎞                    ⎛                    2                   2⎞ \n",
       "*II] - y[0]) ⎠   6.33333333333333⋅⎝(x[2*II + 1] - y[1])  + (x[2*II] - y[0]) ⎠ \n",
       "────────────── + ─────────────────────────────────────────────────────────────\n",
       "                                                   3                          \n",
       "                                             sup[0]                           \n",
       "                                                                              \n",
       "                                                                              \n",
       "              2⎞                    ⎛                    2                   2\n",
       "[2*II] - y[0]) ⎠   6.33333333333333⋅⎝(x[2*II + 1] - y[1])  + (x[2*II] - y[0]) \n",
       "──────────────── + ───────────────────────────────────────────────────────────\n",
       "                                                     3                        \n",
       "                                               sup[0]                         \n",
       "\n",
       "                                         2                                    \n",
       "                   2                   2⎞                                     \n",
       "x[2*II + 1] - y[1])  + (x[2*II] - y[0]) ⎠                                     \n",
       "──────────────────────────────────────────                          (x[2*II] -\n",
       "                    4                                                         \n",
       "              sup[0]                                                          \n",
       "                                                                              \n",
       "/2                                                  2⎞                        \n",
       "         ⎛                    2                   2⎞ ⎟                        \n",
       "     2.5⋅⎝(x[2*II + 1] - y[1])  + (x[2*II] - y[0]) ⎠ ⎟                        \n",
       "── - ────────────────────────────────────────────────⎟              (x[2*II] -\n",
       "                               4                     ⎟                        \n",
       "                         sup[0]                      ⎠                        \n",
       "                                                                              \n",
       " 3/2                                                  2⎞                      \n",
       "⎞          ⎛                    2                   2⎞ ⎟                      \n",
       "⎠      2.5⋅⎝(x[2*II + 1] - y[1])  + (x[2*II] - y[0]) ⎠ ⎟                      \n",
       "──── - ────────────────────────────────────────────────⎟  (x[2*II + 1] - y[1])\n",
       "                                 4                     ⎟                      \n",
       "                           sup[0]                      ⎠                      \n",
       "\n",
       "       ⎛                                                                      \n",
       "       ⎜                        ⎛                    2                   2⎞   \n",
       "       ⎜                    4.5⋅⎝(x[2*II + 1] - y[1])  + (x[2*II] - y[0]) ⎠   \n",
       " y[0])⋅⎜0.666666666666667 - ─────────────────────────────────────────────── + \n",
       "       ⎜                                              2                       \n",
       "       ⎝                                        sup[0]                        \n",
       "                                                                              \n",
       "        ⎛                                                                     \n",
       "        ⎜                        ⎛                    2                   2⎞  \n",
       "      2 ⎜                    4.5⋅⎝(x[2*II + 1] - y[1])  + (x[2*II] - y[0]) ⎠  \n",
       " y[0]) ⋅⎜0.666666666666667 - ─────────────────────────────────────────────── +\n",
       "        ⎜                                              2                      \n",
       "        ⎝                                        sup[0]                       \n",
       "                                                                              \n",
       "                  ⎛                                                           \n",
       "                  ⎜                        ⎛                    2             \n",
       "                  ⎜                    4.5⋅⎝(x[2*II + 1] - y[1])  + (x[2*II] -\n",
       "⋅(x[2*II] - y[0])⋅⎜0.666666666666667 - ───────────────────────────────────────\n",
       "                  ⎜                                              2            \n",
       "                  ⎝                                        sup[0]             \n",
       "\n",
       "                                                            3/2               \n",
       "                 ⎛                    2                   2⎞          ⎛       \n",
       "6.33333333333333⋅⎝(x[2*II + 1] - y[1])  + (x[2*II] - y[0]) ⎠      2.5⋅⎝(x[2*II\n",
       "─────────────────────────────────────────────────────────────── - ────────────\n",
       "                                  3                                           \n",
       "                            sup[0]                                            \n",
       "                                                                              \n",
       "                                                             3/2              \n",
       "                  ⎛                    2                   2⎞          ⎛      \n",
       " 6.33333333333333⋅⎝(x[2*II + 1] - y[1])  + (x[2*II] - y[0]) ⎠      2.5⋅⎝(x[2*I\n",
       " ─────────────────────────────────────────────────────────────── - ───────────\n",
       "                                   3                                          \n",
       "                             sup[0]                                           \n",
       "                                                                              \n",
       "                                                                       3/2    \n",
       "      2⎞                    ⎛                    2                   2⎞       \n",
       " y[0]) ⎠   6.33333333333333⋅⎝(x[2*II + 1] - y[1])  + (x[2*II] - y[0]) ⎠      2\n",
       "──────── + ─────────────────────────────────────────────────────────────── - ─\n",
       "                                             3                                \n",
       "                                       sup[0]                                 \n",
       "\n",
       "                                   2⎞                                         \n",
       "             2                   2⎞ ⎟                                         \n",
       " + 1] - y[1])  + (x[2*II] - y[0]) ⎠ ⎟                                         \n",
       "────────────────────────────────────⎟                     (x[2*II + 1] - y[1])\n",
       "              4                     ⎟                                         \n",
       "        sup[0]                      ⎠                                         \n",
       "                                                                              \n",
       "                                    2⎞                                        \n",
       "              2                   2⎞ ⎟                                        \n",
       "I + 1] - y[1])  + (x[2*II] - y[0]) ⎠ ⎟                                        \n",
       "─────────────────────────────────────⎟            (x[2*II + 1] - y[1])⋅(x[2*II\n",
       "               4                     ⎟                                        \n",
       "         sup[0]                      ⎠                                        \n",
       "                                                                              \n",
       "                                              2⎞                              \n",
       "   ⎛                    2                   2⎞ ⎟                              \n",
       ".5⋅⎝(x[2*II + 1] - y[1])  + (x[2*II] - y[0]) ⎠ ⎟                              \n",
       "───────────────────────────────────────────────⎟          (x[2*II + 1] - y[1])\n",
       "                         4                     ⎟                              \n",
       "                   sup[0]                      ⎠                              \n",
       "\n",
       " ⎛                                                                            \n",
       " ⎜                        ⎛                    2                   2⎞         \n",
       " ⎜                    4.5⋅⎝(x[2*II + 1] - y[1])  + (x[2*II] - y[0]) ⎠   6.3333\n",
       "⋅⎜0.666666666666667 - ─────────────────────────────────────────────── + ──────\n",
       " ⎜                                              2                             \n",
       " ⎝                                        sup[0]                              \n",
       "                                                                              \n",
       "          ⎛                                                                   \n",
       "          ⎜                        ⎛                    2                   2⎞\n",
       "          ⎜                    4.5⋅⎝(x[2*II + 1] - y[1])  + (x[2*II] - y[0]) ⎠\n",
       "] - y[0])⋅⎜0.666666666666667 - ───────────────────────────────────────────────\n",
       "          ⎜                                              2                    \n",
       "          ⎝                                        sup[0]                     \n",
       "                                                                              \n",
       "  ⎛                                                                           \n",
       "  ⎜                        ⎛                    2                   2⎞        \n",
       "2 ⎜                    4.5⋅⎝(x[2*II + 1] - y[1])  + (x[2*II] - y[0]) ⎠   6.333\n",
       " ⋅⎜0.666666666666667 - ─────────────────────────────────────────────── + ─────\n",
       "  ⎜                                              2                            \n",
       "  ⎝                                        sup[0]                             \n",
       "\n",
       "                                                      3/2                     \n",
       "           ⎛                    2                   2⎞          ⎛             \n",
       "3333333333⋅⎝(x[2*II + 1] - y[1])  + (x[2*II] - y[0]) ⎠      2.5⋅⎝(x[2*II + 1] \n",
       "───────────────────────────────────────────────────────── - ──────────────────\n",
       "                            3                                                 \n",
       "                      sup[0]                                                  \n",
       "                                                                              \n",
       "                                                               3/2            \n",
       "                    ⎛                    2                   2⎞          ⎛    \n",
       "   6.33333333333333⋅⎝(x[2*II + 1] - y[1])  + (x[2*II] - y[0]) ⎠      2.5⋅⎝(x[2\n",
       " + ─────────────────────────────────────────────────────────────── - ─────────\n",
       "                                     3                                        \n",
       "                               sup[0]                                         \n",
       "                                                                              \n",
       "                                                       3/2                    \n",
       "            ⎛                    2                   2⎞          ⎛            \n",
       "33333333333⋅⎝(x[2*II + 1] - y[1])  + (x[2*II] - y[0]) ⎠      2.5⋅⎝(x[2*II + 1]\n",
       "────────────────────────────────────────────────────────── - ─────────────────\n",
       "                             3                                                \n",
       "                       sup[0]                                                 \n",
       "\n",
       "                             2⎞         ⎤\n",
       "       2                   2⎞ ⎟         ⎥\n",
       "- y[1])  + (x[2*II] - y[0]) ⎠ ⎟         ⎥\n",
       "──────────────────────────────⎟         ⎥\n",
       "        4                     ⎟         ⎥\n",
       "  sup[0]                      ⎠         ⎥\n",
       "                                        ⎥\n",
       "                                      2⎞⎥\n",
       "                2                   2⎞ ⎟⎥\n",
       "*II + 1] - y[1])  + (x[2*II] - y[0]) ⎠ ⎟⎥\n",
       "───────────────────────────────────────⎟⎥\n",
       "                 4                     ⎟⎥\n",
       "           sup[0]                      ⎠⎥\n",
       "                                        ⎥\n",
       "                              2⎞        ⎥\n",
       "        2                   2⎞ ⎟        ⎥\n",
       " - y[1])  + (x[2*II] - y[0]) ⎠ ⎟        ⎥\n",
       "───────────────────────────────⎟        ⎥\n",
       "         4                     ⎟        ⎥\n",
       "   sup[0]                      ⎠        ⎦"
      ]
     },
     "execution_count": 7,
     "metadata": {},
     "output_type": "execute_result"
    }
   ],
   "source": [
    "print RKPM.M_expr.shape\n",
    "RKPM.M_expr"
   ]
  },
  {
   "cell_type": "code",
   "execution_count": 8,
   "metadata": {
    "collapsed": false,
    "deletable": true,
    "editable": true
   },
   "outputs": [
    {
     "data": {
      "text/plain": [
       "<popcorn.Kernel.Kernel instance at 0x7f632b9dbc68>"
      ]
     },
     "execution_count": 8,
     "metadata": {},
     "output_type": "execute_result"
    }
   ],
   "source": [
    "# Evaluate u interpolation\n",
    "o_uy = Output('uy', [EvalSca],1)\n",
    "Kernel(\"interp_u\",\n",
    "        listing = RKPM.init_prgm + [\n",
    "        Loop(II,0,Npt,[\n",
    "            Asgn(o_uy, RKPM.NI * uI, '+=')\n",
    "        ]),\n",
    "        ] + RKPM.close_prgm\n",
    "      )"
   ]
  },
  {
   "cell_type": "code",
   "execution_count": null,
   "metadata": {
    "collapsed": true,
    "deletable": true,
    "editable": true
   },
   "outputs": [],
   "source": []
  },
  {
   "cell_type": "code",
   "execution_count": 9,
   "metadata": {
    "collapsed": false,
    "deletable": true,
    "editable": true,
    "scrolled": true
   },
   "outputs": [
    {
     "data": {
      "image/png": "[encoded data removed]",
      "text/latex": [
       "$$\\left(1.0 rkpm_{c[0]} + rkpm_{c[1]} \\left(x[2*JJ] - y[0]\\right) + rkpm_{c[2]} \\left(x[2*JJ + 1] - y[1]\\right)\\right) \\left(0.666666666666667 - \\frac{1}{sup[0]^{2}} \\left(4.5 \\left(x[2*JJ + 1] - y[1]\\right)^{2} + 4.5 \\left(x[2*JJ] - y[0]\\right)^{2}\\right) + \\frac{6.33333333333333}{sup[0]^{3}} \\left(\\left(x[2*JJ + 1] - y[1]\\right)^{2} + \\left(x[2*JJ] - y[0]\\right)^{2}\\right)^{\\frac{3}{2}} - \\frac{2.5}{sup[0]^{4}} \\left(\\left(x[2*JJ + 1] - y[1]\\right)^{2} + \\left(x[2*JJ] - y[0]\\right)^{2}\\right)^{2}\\right)$$"
      ],
      "text/plain": [
       "                                                                              \n",
       "                                                                              \n",
       "                                                                              \n",
       "(1.0⋅rkpm_c[0] + rkpm_c[1]⋅(x[2*JJ] - y[0]) + rkpm_c[2]⋅(x[2*JJ + 1] - y[1]))⋅\n",
       "                                                                              \n",
       "                                                                              \n",
       "\n",
       "⎛                                                                             \n",
       "⎜                        ⎛                    2                   2⎞          \n",
       "⎜                    4.5⋅⎝(x[2*JJ + 1] - y[1])  + (x[2*JJ] - y[0]) ⎠   6.33333\n",
       "⎜0.666666666666667 - ─────────────────────────────────────────────── + ───────\n",
       "⎜                                              2                              \n",
       "⎝                                        sup[0]                               \n",
       "\n",
       "                                                     3/2                      \n",
       "          ⎛                    2                   2⎞          ⎛              \n",
       "333333333⋅⎝(x[2*JJ + 1] - y[1])  + (x[2*JJ] - y[0]) ⎠      2.5⋅⎝(x[2*JJ + 1] -\n",
       "──────────────────────────────────────────────────────── - ───────────────────\n",
       "                           3                                                  \n",
       "                     sup[0]                                                   \n",
       "\n",
       "                            2⎞\n",
       "      2                   2⎞ ⎟\n",
       " y[1])  + (x[2*JJ] - y[0]) ⎠ ⎟\n",
       "─────────────────────────────⎟\n",
       "       4                     ⎟\n",
       " sup[0]                      ⎠"
      ]
     },
     "execution_count": 9,
     "metadata": {},
     "output_type": "execute_result"
    }
   ],
   "source": [
    "RKPM.NJ"
   ]
  },
  {
   "cell_type": "code",
   "execution_count": 10,
   "metadata": {
    "collapsed": true,
    "deletable": true,
    "editable": true
   },
   "outputs": [],
   "source": [
    "R = gateaux(P, tu,   Matrix([RKPM.NI]),RKPM.grad_NI.T)\n",
    "R.simplify()\n",
    "K = gateaux(R,  u,   Matrix([RKPM.NJ]),RKPM.grad_NJ.T)"
   ]
  },
  {
   "cell_type": "code",
   "execution_count": 11,
   "metadata": {
    "collapsed": false,
    "deletable": true,
    "editable": true
   },
   "outputs": [
    {
     "data": {
      "text/plain": [
       "<popcorn.Kernel.Kernel instance at 0x7f6329d8ffc8>"
      ]
     },
     "execution_count": 11,
     "metadata": {},
     "output_type": "execute_result"
    }
   ],
   "source": [
    "\n",
    "o_R = Output('R', [PtSca], 1)\n",
    "o_K = Output('K', [PtSca], 2)\n",
    "Kernel(\"poisson_0\",\n",
    "    listing = RKPM.init_prgm + [\n",
    "        u,\n",
    "        grad(u),\n",
    "        Loop(II,0,Npt,[\n",
    "            Asgn(u,      RKPM.NI * uI, '+='),\n",
    "            Asgn(grad(u), RKPM.grad_NI * uI, '+=')\n",
    "        ]),\n",
    "        Loop(II,0,Npt,[\n",
    "            Asgn(o_R.View((II,)), Matrix([i_w[0]*R]),\"+=\"),\n",
    "            Loop(JJ,0,Npt,[\n",
    "                Asgn(o_K.View((II,JJ)), Matrix([i_w[0]*K]),\"+=\")\n",
    "                ])\n",
    "            ]),\n",
    "    ] + RKPM.close_prgm\n",
    "    )"
   ]
  },
  {
   "cell_type": "code",
   "execution_count": 16,
   "metadata": {
    "collapsed": false,
    "deletable": true,
    "editable": true
   },
   "outputs": [],
   "source": [
    "Husk('rkpm')"
   ]
  },
  {
   "cell_type": "code",
   "execution_count": 14,
   "metadata": {
    "collapsed": false,
    "deletable": true,
    "editable": true
   },
   "outputs": [
    {
     "name": "stdout",
     "output_type": "stream",
     "text": [
      "CMakeLists.txt\n",
      "__init__.py\n",
      "__init__.pyc\n",
      "interp_u.c\n",
      "interp_u.h\n",
      "kernels_rkpm.h\n",
      "poisson_0.c\n",
      "poisson_0.h\n",
      "rkpm_swig.i\n",
      "#include \"interp_u.h\"\n",
      "\n",
      "#include \"math.h\"\n",
      "#include <gsl/gsl_linalg.h>\n",
      "\n",
      "void interp_u_eval(int l_edge,\n",
      "/*Inputs:*/\n",
      "const real_t * restrict u,\n",
      "const real_t * restrict sup,\n",
      "const real_t * restrict y,\n",
      "const real_t * restrict x,\n",
      "/*Outputs:*/\n",
      "real_t * restrict uy)\n",
      "{\n",
      "real_t rkpm_M[9];{int i; for(i= 0;i<9;i++) rkpm_M[i]=0.0;}\n",
      "\n",
      "{\n",
      "int II;\n",
      "for(II=(int)(0);II<(int)(l_edge - 1);II++) {\n",
      "/* Evaluation of rkpm_M */\n",
      "rkpm_M[0]+= 0.666666666666667 - 4.5*(pow(x[2*II + 1] - y[1],\n",
      "rkpm_M[1]+= (x[2*II] - y[0])*(0.666666666666667 - 4.5*(pow(x\n",
      "rkpm_M[2]+= (x[2*II + 1] - y[1])*(0.666666666666667 - 4.5*(p\n",
      "rkpm_M[3]+= 1.0*(x[2*II] - y[0])*(0.666666666666667 - 4.5*(p\n",
      "rkpm_M[4]+= pow(x[2*II] - y[0], 2)*(0.666666666666667 - 4.5*\n",
      "rkpm_M[5]+= (x[2*II + 1] - y[1])*(x[2*II] - y[0])*(0.6666666\n",
      "rkpm_M[6]+= 1.0*(x[2*II + 1] - y[1])*(0.666666666666667 - 4.\n",
      "rkpm_M[7]+= (x[2*II + 1] - y[1])*(x[2*II] - y[0])*(0.6666666\n",
      "rkpm_M[8]+= pow(x[2*II + 1] - y[1], 2)*(0.666666666666667 - \n",
      "}\n",
      "}\n",
      "\n",
      "\n",
      "        \n",
      "        gsl_matrix_view gsl_mat_rkpm_M \n",
      "          = gsl_matrix_view_array( rkpm_M, 3, 3 );\n",
      "        gsl_permutation * gsl_p_rkpm_M\n",
      "          = gsl_permutation_alloc( 3 );\n",
      "        int gsl_s_rkpm_M;\n",
      "\n",
      "        gsl_linalg_LU_decomp(&gsl_mat_rkpm_M.matrix, gsl_p_r\n",
      "\n",
      "        \n",
      "        \n",
      "\n",
      "real_t rkpm_P0[3];{int i; for(i= 0;i<3;i++) rkpm_P0[i]=0.0;}\n",
      "\n",
      "real_t rkpm_c[3];{int i; for(i= 0;i<3;i++) rkpm_c[i]=0.0;}\n",
      "\n",
      "/* Evaluation of rkpm_P0 */\n",
      "rkpm_P0[0]= 1.0;\n",
      "rkpm_P0[1]= 0;\n",
      "rkpm_P0[2]= 0;\n",
      "\n",
      "\n",
      "        {\n",
      "        gsl_vector_view gsl_vec_rkpm_P0 \n",
      "         = gsl_vector_view_array( rkpm_P0, 3 );\n",
      "        gsl_vector_view gsl_vec_rkpm_c \n",
      "         = gsl_vector_view_array( rkpm_c, 3 );\n",
      "\n",
      "        gsl_linalg_LU_solve( &gsl_mat_rkpm_M.matrix, gsl_p_r\n",
      "                             &gsl_vec_rkpm_P0.vector,\n",
      "                             &gsl_vec_rkpm_c.vector );\n",
      "\n",
      "        }\n",
      "        \n",
      "\n",
      "real_t rkpm_c_dot_d0_M[3];{int i; for(i= 0;i<3;i++) rkpm_c_d\n",
      "\n",
      "real_t rkpm_c_dot_d1_M[3];{int i; for(i= 0;i<3;i++) rkpm_c_d\n",
      "\n",
      "real_t rkpm_c_dot_d0_M_Mi[3];{int i; for(i= 0;i<3;i++) rkpm_\n",
      "\n",
      "real_t rkpm_c_dot_d1_M_Mi[3];{int i; for(i= 0;i<3;i++) rkpm_\n",
      "\n",
      "{\n",
      "int II;\n",
      "for(II=(int)(0);II<(int)(l_edge - 1);II++) {\n",
      "/* Evaluation of rkpm_c_dot_d0_M */\n",
      "rkpm_c_dot_d0_M[0]+= rkpm_c[0]*(-4.5*(-2*x[2*II] + 2*y[0])/p\n",
      "rkpm_c_dot_d0_M[1]+= rkpm_c[0]*(1.0*(x[2*II] - y[0])*(-4.5*(\n",
      "rkpm_c_dot_d0_M[2]+= 1.0*rkpm_c[0]*(x[2*II + 1] - y[1])*(-4.\n",
      "}\n",
      "}\n",
      "\n",
      "{\n",
      "int II;\n",
      "for(II=(int)(0);II<(int)(l_edge - 1);II++) {\n",
      "/* Evaluation of rkpm_c_dot_d1_M */\n",
      "rkpm_c_dot_d1_M[0]+= rkpm_c[0]*(-4.5*(-2*x[2*II + 1] + 2*y[1\n",
      "rkpm_c_dot_d1_M[1]+= 1.0*rkpm_c[0]*(x[2*II] - y[0])*(-4.5*(-\n",
      "rkpm_c_dot_d1_M[2]+= rkpm_c[0]*(1.0*(x[2*II + 1] - y[1])*(-4\n",
      "}\n",
      "}\n",
      "\n",
      "\n",
      "        {\n",
      "        gsl_vector_view gsl_vec_rkpm_c_dot_d0_M \n",
      "         = gsl_vector_view_array( rkpm_c_dot_d0_M, 3 );\n",
      "        gsl_vector_view gsl_vec_rkpm_c_dot_d0_M_Mi \n",
      "         = gsl_vector_view_array( rkpm_c_dot_d0_M_Mi, 3 );\n",
      "\n",
      "        gsl_linalg_LU_solve( &gsl_mat_rkpm_M.matrix, gsl_p_r\n",
      "                             &gsl_vec_rkpm_c_dot_d0_M.vector\n",
      "                             &gsl_vec_rkpm_c_dot_d0_M_Mi.vec\n",
      "\n",
      "        }\n",
      "        \n",
      "\n",
      "\n",
      "        {\n",
      "        gsl_vector_view gsl_vec_rkpm_c_dot_d1_M \n",
      "         = gsl_vector_view_array( rkpm_c_dot_d1_M, 3 );\n",
      "        gsl_vector_view gsl_vec_rkpm_c_dot_d1_M_Mi \n",
      "         = gsl_vector_view_array( rkpm_c_dot_d1_M_Mi, 3 );\n",
      "\n",
      "        gsl_linalg_LU_solve( &gsl_mat_rkpm_M.matrix, gsl_p_r\n",
      "                             &gsl_vec_rkpm_c_dot_d1_M.vector\n",
      "                             &gsl_vec_rkpm_c_dot_d1_M_Mi.vec\n",
      "\n",
      "        }\n",
      "        \n",
      "\n",
      "{\n",
      "int II;\n",
      "for(II=(int)(0);II<(int)(l_edge - 1);II++) {\n",
      "/* Evaluation of uy */\n",
      "uy[0]+= u[II]*(1.0*rkpm_c[0] + rkpm_c[1]*(x[2*II] - y[0]) + \n",
      "}\n",
      "}\n",
      "\n",
      "\n",
      "        gsl_permutation_free(gsl_p_rkpm_M);\n",
      "        \n",
      "}\n",
      "\n",
      "void interp_u_eval_wr(int l_edge, const real_t * restrict in\n",
      "   interp_u_eval(l_edge,in, in+(int)(l_edge - 1), in+(int)(l\n",
      "out);\n",
      "}\n",
      "\n",
      "void kmap_interp_u0(int * edge, int l_edge, int * verts, int\n",
      "  int i;\n",
      "  *dim = 1;\n",
      "  *n = (int)((int)(l_edge - 1));\n",
      "  if(edge) {\n",
      "    for( i=0 ; i<*n ; i++ ) {\n",
      "      verts[i] = edge[(int)(1) + 1*i];\n",
      "    }\n",
      "  }\n",
      "}\n",
      "void kmap_interp_u1(int * edge, int l_edge, int * verts, int\n",
      "  int i;\n",
      "  *dim = 1;\n",
      "  *n = (int)((int)(1));\n",
      "  if(edge) {\n",
      "    for( i=0 ; i<*n ; i++ ) {\n",
      "      verts[i] = edge[(int)(0) + 1*i];\n",
      "    }\n",
      "  }\n",
      "}\n",
      "void kmap_interp_u2(int * edge, int l_edge, int * verts, int\n",
      "  int i;\n",
      "  *dim = 2;\n",
      "  *n = (int)((int)(1));\n",
      "  if(edge) {\n",
      "    for( i=0 ; i<*n ; i++ ) {\n",
      "      verts[i] = edge[(int)(0) + 1*i];\n",
      "    }\n",
      "  }\n",
      "}\n",
      "void kmap_interp_u3(int * edge, int l_edge, int * verts, int\n",
      "  int i;\n",
      "  *dim = 2;\n",
      "  *n = (int)((int)(l_edge - 1));\n",
      "  if(edge) {\n",
      "    for( i=0 ; i<*n ; i++ ) {\n",
      "      verts[i] = edge[(int)(1) + 1*i];\n",
      "    }\n",
      "  }\n",
      "}\n",
      "kernel_t kernel_interp_u = {\n",
      ".nmap = 4,\n",
      ".maps = {\n",
      "kmap_interp_u0,\n",
      "kmap_interp_u1,\n",
      "kmap_interp_u2,\n",
      "kmap_interp_u3\n",
      "},\n",
      "\n",
      ".ninp = 4,\n",
      ".inp = {\n",
      "{ .field_number=0, .map_num=0, .name=\"u\" },\n",
      "{ .field_number=1, .map_num=1, .name=\"sup\" },\n",
      "{ .field_number=2, .map_num=2, .name=\"y\" },\n",
      "{ .field_number=3, .map_num=3, .name=\"x\" }\n",
      "},\n",
      "\n",
      ".noutp = 1,\n",
      ".outp = {\n",
      "{ .rank = 1, .nmap = 1, .map_nums = { 1 }, .name=\"uy\" }\n",
      "},\n",
      ".eval=interp_u_eval_wr,\n",
      ".name=\"interp_u\"\n",
      "};\n",
      "\n"
     ]
    }
   ],
   "source": [
    "%%bash\n",
    "ls husk_rkpm\n",
    "cut -c -60 husk_rkpm/interp_u.c"
   ]
  },
  {
   "cell_type": "code",
   "execution_count": null,
   "metadata": {
    "collapsed": true
   },
   "outputs": [],
   "source": []
  }
 ],
 "metadata": {
  "kernelspec": {
   "display_name": "Python 2",
   "language": "python",
   "name": "python2"
  },
  "language_info": {
   "codemirror_mode": {
    "name": "ipython",
    "version": 2
   },
   "file_extension": ".py",
   "mimetype": "text/x-python",
   "name": "python",
   "nbconvert_exporter": "python",
   "pygments_lexer": "ipython2",
   "version": "2.7.12"
  }
 },
 "nbformat": 4,
 "nbformat_minor": 2
}
