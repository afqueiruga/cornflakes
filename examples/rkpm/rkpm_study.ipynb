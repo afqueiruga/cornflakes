{
 "cells": [
  {
   "cell_type": "markdown",
   "metadata": {
    "deletable": true,
    "editable": true
   },
   "source": [
    "# Meshless Methods: The Galerkin RKPM and MLS class\n",
    "\n",
    "In this notebook, we're going to examine the different behaviors of different schemes. We're going to use all those kernels we just spat out for every possible combination of methods to solve a few different problems with analytical solutions and examine they're behavior."
   ]
  },
  {
   "cell_type": "code",
   "execution_count": 1,
   "metadata": {
    "collapsed": true,
    "deletable": true,
    "editable": true
   },
   "outputs": [],
   "source": [
    "import numpy as np\n",
    "import cornflakes as cf\n",
    "import scipy.sparse.linalg as splin\n",
    "from matplotlib import pylab as plt\n",
    "\n",
    "import husk_rkpm as hr\n",
    "import util"
   ]
  },
  {
   "cell_type": "code",
   "execution_count": 2,
   "metadata": {
    "collapsed": true,
    "deletable": true,
    "editable": true
   },
   "outputs": [],
   "source": [
    "# Params\n",
    "gdim = 2\n",
    "Nside = 25\n",
    "L = 1.0\n",
    "params = np.array([1.0])\n",
    "Ndesired = 8\n",
    "cutoff = 2*L"
   ]
  },
  {
   "cell_type": "markdown",
   "metadata": {
    "deletable": true,
    "editable": true
   },
   "source": [
    "Degrees of Freedom live on a mesh of particles, $X$. We need a second set of points, the gauss points $GW$, $GX$. These represent the integration points of a background mesh."
   ]
  },
  {
   "cell_type": "code",
   "execution_count": 3,
   "metadata": {
    "collapsed": true,
    "deletable": true,
    "editable": true
   },
   "outputs": [],
   "source": [
    "X = cf.PP.init_grid(Nside,Nside, [-L,-L], [2*L,0.0], [0.0,2*L])\n",
    "# Make the background mesh\n",
    "GW,GX = util.GaussQuadGrid(Nside-1,Nside-1, 3,3, [-L,-L], 2*L,2*L)\n",
    "Npt = X.shape[0]\n",
    "u = np.zeros(Npt)\n",
    "# Mark the edges\n",
    "eps = 1.0e-10\n",
    "boundary = cf.select_nodes(X, lambda a:\n",
    "                        a[0]<-L+eps or a[0]>L-eps or \n",
    "                        a[1]<-L+eps or a[1]>L-eps )\n",
    "Nbc = len(boundary)\n",
    "ubc = np.zeros(Nbc)\n",
    "# Make the graph connecting gauss points to their support\n",
    "H_pt_gp,r_pt_gp = cf.Graphers.Build_Proximity_Graph_Given_Length(X,Ndesired,cutoff, GX)\n",
    "SupR = r_pt_gp.max()\n",
    "r_pt_gp[:] = SupR\n",
    "H_pt_gp = cf.Graphers.Build_Proximity_Graph_Variable(X,r_pt_gp, GX)"
   ]
  },
  {
   "cell_type": "markdown",
   "metadata": {
    "deletable": true,
    "editable": true
   },
   "source": [
    "These are the Dofmaps we need. A vector, scalar, and a parameter block. The Gauss/Eval points share these with the DOF nodes because I'm lazy about Vertex numbering. If this were to run in parallel, we would have to make the vertex ids the Gausspoints and Evaluation points not overlap with the DOF nodes."
   ]
  },
  {
   "cell_type": "code",
   "execution_count": 4,
   "metadata": {
    "collapsed": true,
    "deletable": true,
    "editable": true
   },
   "outputs": [],
   "source": [
    "dm_ptvec = cf.Dofmap_Strided(gdim)\n",
    "dm_ptsca = cf.Dofmap_Strided(1)\n",
    "dm_param = cf.Dofmap_Strided(params.size)"
   ]
  },
  {
   "cell_type": "markdown",
   "metadata": {
    "deletable": true,
    "editable": true
   },
   "source": [
    "The data dictionary for the variational problem."
   ]
  },
  {
   "cell_type": "code",
   "execution_count": 5,
   "metadata": {
    "collapsed": true,
    "deletable": true,
    "editable": true
   },
   "outputs": [],
   "source": [
    "data = {'x':(X,dm_ptvec),\n",
    "        'u':(u,dm_ptsca),\n",
    "        'y':(GX,dm_ptvec), #laziness\n",
    "        'w':(GW,dm_ptsca),\n",
    "        'sup':(r_pt_gp,dm_ptsca),\n",
    "       }"
   ]
  },
  {
   "cell_type": "code",
   "execution_count": 6,
   "metadata": {
    "collapsed": true,
    "deletable": true,
    "editable": true
   },
   "outputs": [],
   "source": [
    "def eval_rkpm(X,u, y, grad=False):\n",
    "    #H,r = cf.Graphers.Build_Proximity_Graph_Given_Length(X,Ndesired, cutoff , y)\n",
    "    r = SupR*np.ones(y.shape[0])\n",
    "    H = cf.Graphers.Build_Proximity_Graph_Variable(X,r, y)\n",
    "    #H = cf.Graphers.Build_Proximity_Graph_Uniform(X,SupR, y)\n",
    "    if grad:\n",
    "        ke = hr.kernel_interp_grad_u\n",
    "    else:\n",
    "        ke = hr.kernel_interp_u\n",
    "    ui, = cf.Assemble(ke, H,\n",
    "                      {'x':(X,dm_ptvec),\n",
    "                       'sup':(r,dm_ptsca),\n",
    "                       'u':(u,dm_ptsca),\n",
    "                       'y':(y,dm_ptvec)},\n",
    "                      {'uy':(dm_ptsca,)},\n",
    "                      ndof=y.shape[0])\n",
    "    return ui\n",
    "def eval_shape(X, i, sample=100, grad=False):\n",
    "    a = np.zeros(X.shape[0])\n",
    "    a[i] = 1.0\n",
    "    xprobe = cf.PP.init_grid(sample,sample,[-L,-L],[2*L,0],[0,2*L])\n",
    "    shapei = eval_rkpm(X,a, xprobe, grad)\n",
    "    return xprobe,shapei\n",
    "def eval_rkpm_grid(X, ui, sample=100, grad=False):\n",
    "    xprobe = cf.PP.init_grid(sample,sample,[-L,-L],[2*L,0],[0,2*L])\n",
    "    u = eval_rkpm(X,ui, xprobe, grad)\n",
    "    return xprobe,u"
   ]
  },
  {
   "cell_type": "code",
   "execution_count": 7,
   "metadata": {
    "collapsed": true,
    "deletable": true,
    "editable": true,
    "scrolled": false
   },
   "outputs": [],
   "source": [
    "#_x,_u=eval_shape(X,33)\n",
    "#util.surfplot(_x,_u)\n",
    "#util.surfplotly(_x,_u)"
   ]
  },
  {
   "cell_type": "code",
   "execution_count": 8,
   "metadata": {
    "collapsed": true,
    "deletable": true,
    "editable": true
   },
   "outputs": [],
   "source": [
    "K,R = cf.Assemble(hr.kernel_poisson_0, H_pt_gp ,\n",
    "                 data,\n",
    "                 {'R':(dm_ptsca,),'K':(dm_ptsca,)},\n",
    "                 ndof=X.shape[0])"
   ]
  },
  {
   "cell_type": "code",
   "execution_count": 14,
   "metadata": {
    "collapsed": false,
    "deletable": true,
    "editable": true,
    "scrolled": false
   },
   "outputs": [],
   "source": [
    "cf.Apply_BC(dm_ptsca.Get_List(boundary),-ubc,\n",
    "            K,R)\n",
    "Du = splin.spsolve(K,R)\n",
    "u = u - Du[:Npt]\n",
    "#plt.spy(K[0:100,0:100])\n",
    "#plt.show()"
   ]
  },
  {
   "cell_type": "code",
   "execution_count": 10,
   "metadata": {
    "collapsed": true,
    "deletable": true,
    "editable": true
   },
   "outputs": [],
   "source": [
    "_x,_u=eval_rkpm_grid(X,u)"
   ]
  },
  {
   "cell_type": "code",
   "execution_count": 15,
   "metadata": {
    "collapsed": false,
    "deletable": true,
    "editable": true
   },
   "outputs": [],
   "source": [
    "#util.surfplot(_x,-_u)"
   ]
  },
  {
   "cell_type": "code",
   "execution_count": 12,
   "metadata": {
    "collapsed": false,
    "deletable": true,
    "editable": true,
    "scrolled": true
   },
   "outputs": [
    {
     "data": {
      "text/plain": [
       "-0.067847119810067344"
      ]
     },
     "execution_count": 12,
     "metadata": {},
     "output_type": "execute_result"
    }
   ],
   "source": [
    "_u.max()"
   ]
  },
  {
   "cell_type": "code",
   "execution_count": null,
   "metadata": {
    "collapsed": true,
    "deletable": true,
    "editable": true
   },
   "outputs": [],
   "source": []
  }
 ],
 "metadata": {
  "kernelspec": {
   "display_name": "Python 2",
   "language": "python",
   "name": "python2"
  },
  "language_info": {
   "codemirror_mode": {
    "name": "ipython",
    "version": 2
   },
   "file_extension": ".py",
   "mimetype": "text/x-python",
   "name": "python",
   "nbconvert_exporter": "python",
   "pygments_lexer": "ipython2",
   "version": "2.7.12"
  }
 },
 "nbformat": 4,
 "nbformat_minor": 2
}
