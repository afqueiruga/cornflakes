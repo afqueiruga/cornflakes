{
 "cells": [
  {
   "cell_type": "markdown",
   "metadata": {
    "deletable": true,
    "editable": true
   },
   "source": [
    "# Intro\n",
    "\n",
    "In this example, we solve the simplest problem I can think of: a network of linear springs joining particles. Let the original position of each particle be $\\mathbf{x}_A$, where the springs are all at equilibrium. We will be solving for the new position $\\mathbf{y}_A$ For each particle in the network, we solve the force balance equation\n",
    "\\begin{equation}\n",
    "0 = \\sum_{B \\,\\text{joined}\\, A} \\mathbf{f}\\left(\\mathbf{y}_A,\\mathbf{y}_B\\right) \\quad \\forall \\,\\text{nodes}\\,A\n",
    "\\end{equation}\n",
    "We define the residual of the system $\\mathbf{R}$ to be the stack of all of these force balance equations, into a system of equations that is $N_{equ}=gdim \\times N_{particle}$ long. Let $\\mathbf{y}$ be the stack of all of particle positions. The spring force $\\mathbf{f}$ will be nonlinear due to its dependence on the orientation of the particles. We use Newton's method to solve the equation $\\mathbf{R}\\left(\\mathbf{y}\\right)=0$ by iterating on\n",
    "\\begin{equation}\n",
    "\\frac{\\partial\\mathbf{R}}{\\partial\\mathbf{y}}\\Delta\\mathbf{y} = - \\mathbf{R}\\left(\\mathbf{y}\\right)\n",
    "\\end{equation}\n",
    "and updating $\\mathbf{y}$ by $\\Delta \\mathbf{y}$ until convergence.\n",
    "\n",
    "We have to do this in in two steps:\n",
    "\n",
    "1. Use popcorn to define a computational kernel to compute to the force balance tangent and residual, and\n",
    "2. Use cornflakes to make a representation of a spring network, apply the kernel to it, and solve it with Newton's method.\n",
    "\n",
    "Normally, the cornflakes paradigm is to put the kernel specifications into a seperate file so that they are only generated once. Multiple scripts then load the compiled result. That is, the contents of \"Part 1\" and \"Part 2\" should be in two different files. They're both together in this notebook for the sake of the discussion."
   ]
  },
  {
   "cell_type": "markdown",
   "metadata": {
    "deletable": true,
    "editable": true
   },
   "source": [
    "# Part 1: The Popcorn kernel"
   ]
  },
  {
   "cell_type": "code",
   "execution_count": 1,
   "metadata": {
    "collapsed": true,
    "deletable": true,
    "editable": true
   },
   "outputs": [],
   "source": [
    "from popcorn import *\n",
    "init_printing() # Sympy method to render the equations"
   ]
  },
  {
   "cell_type": "markdown",
   "metadata": {
    "deletable": true,
    "editable": true
   },
   "source": [
    "\n",
    "\n",
    "Note: $\\mathbf{x}$ and $\\mathbf{y}$ are not the axis labels, they are both points. Axes are refered to by the numbers 0,1, and 2."
   ]
  },
  {
   "cell_type": "code",
   "execution_count": 2,
   "metadata": {
    "collapsed": true,
    "deletable": true,
    "editable": true
   },
   "outputs": [],
   "source": [
    "gdim = 2\n",
    "Scalar = DofSpace(1,0,2)\n",
    "Vector = DofSpace(gdim,0,2)\n",
    "Param  = DofSpace(1,-1)\n",
    "i_x = Input('x',Vector)\n",
    "i_y = Input('y',Vector)\n",
    "i_k = Input('k',Param)"
   ]
  },
  {
   "cell_type": "markdown",
   "metadata": {
    "deletable": true,
    "editable": true
   },
   "source": [
    "`Input`s are (slightly hacky) extensions of the `Matrix` class of Sympy, so you can use them directly to build symbolic expressions."
   ]
  },
  {
   "cell_type": "code",
   "execution_count": 3,
   "metadata": {
    "collapsed": false,
    "deletable": true,
    "editable": true
   },
   "outputs": [
    {
     "name": "stdout",
     "output_type": "stream",
     "text": [
      "Matrix([\n",
      "[x[0]],\n",
      "[x[1]],\n",
      "[x[2]],\n",
      "[x[3]]])\n"
     ]
    }
   ],
   "source": [
    "print i_x"
   ]
  },
  {
   "cell_type": "markdown",
   "metadata": {
    "deletable": true,
    "editable": true
   },
   "source": [
    "The `Vertex_Split` method of `Input` is a convenient way to quickly cut it up"
   ]
  },
  {
   "cell_type": "code",
   "execution_count": 4,
   "metadata": {
    "collapsed": false,
    "deletable": true,
    "editable": true
   },
   "outputs": [
    {
     "data": {
      "image/png": "[encoded data removed]",
      "text/latex": [
       "$$\\left[\\begin{matrix}x[2]\\\\x[3]\\end{matrix}\\right]$$"
      ],
      "text/plain": [
       "⎡x[2]⎤\n",
       "⎢    ⎥\n",
       "⎣x[3]⎦"
      ]
     },
     "execution_count": 4,
     "metadata": {},
     "output_type": "execute_result"
    }
   ],
   "source": [
    "x0,x1 = i_x.Vertex_Split()\n",
    "y0,y1 = i_y.Vertex_Split()\n",
    "x1"
   ]
  },
  {
   "cell_type": "markdown",
   "metadata": {
    "deletable": true,
    "editable": true
   },
   "source": [
    "Now that we cut up the end points of the springs, we can build useful symbolic expressions with them. Let us make expressions for the deformed and refernce length of the spring."
   ]
  },
  {
   "cell_type": "code",
   "execution_count": 5,
   "metadata": {
    "collapsed": false,
    "deletable": true,
    "editable": true
   },
   "outputs": [
    {
     "data": {
      "image/png": "[encoded data removed]",
      "text/latex": [
       "$$\\sqrt{\\left(- y[0] + y[2]\\right)^{2} + \\left(- y[1] + y[3]\\right)^{2}}$$"
      ],
      "text/plain": [
       "   ___________________________________\n",
       "  ╱               2                 2 \n",
       "╲╱  (-y[0] + y[2])  + (-y[1] + y[3])  "
      ]
     },
     "execution_count": 5,
     "metadata": {},
     "output_type": "execute_result"
    }
   ],
   "source": [
    "norm = lambda a : sqrt( (a.T*a)[0,0] )\n",
    "L_defo = norm(y1-y0)\n",
    "L_orig = norm(x1-x0)\n",
    "L_defo"
   ]
  },
  {
   "cell_type": "markdown",
   "metadata": {
    "deletable": true,
    "editable": true
   },
   "source": [
    "The notebook interface is paticularly useful for this type of work because it renders our equations! Imagine how useful this is to ensuring that you typed in equations correctly! Especially because we could build them symbollically, instead of having to type in vector concepts unrolled into double arrays.\n",
    "\n",
    "The ugly [0,0] is there because 1x1 Matrices don't behave like normal Symbols in Sympy. This infuriates me, but I get why. It is just something to watch out for, and why rendering in the notebook is useful."
   ]
  },
  {
   "cell_type": "markdown",
   "metadata": {
    "deletable": true,
    "editable": true
   },
   "source": [
    "Now we are able to define the force between the springs,\n",
    "\\begin{equation}\n",
    "\\mathbf{f} = -k \\frac{L-L_o}{L_o} \\hat{\\mathbf{r}}\n",
    "\\end{equation}"
   ]
  },
  {
   "cell_type": "code",
   "execution_count": 6,
   "metadata": {
    "collapsed": false,
    "deletable": true,
    "editable": true,
    "scrolled": true
   },
   "outputs": [
    {
     "data": {
      "image/png": "[encoded data removed]",
      "text/latex": [
       "$$\\left[\\begin{matrix}\\frac{k[0] \\left(- y[0] + y[2]\\right) \\left(- \\sqrt{\\left(- x[0] + x[2]\\right)^{2} + \\left(- x[1] + x[3]\\right)^{2}} + \\sqrt{\\left(- y[0] + y[2]\\right)^{2} + \\left(- y[1] + y[3]\\right)^{2}}\\right)}{\\sqrt{\\left(- x[0] + x[2]\\right)^{2} + \\left(- x[1] + x[3]\\right)^{2}} \\sqrt{\\left(- y[0] + y[2]\\right)^{2} + \\left(- y[1] + y[3]\\right)^{2}}}\\\\\\frac{k[0] \\left(- y[1] + y[3]\\right) \\left(- \\sqrt{\\left(- x[0] + x[2]\\right)^{2} + \\left(- x[1] + x[3]\\right)^{2}} + \\sqrt{\\left(- y[0] + y[2]\\right)^{2} + \\left(- y[1] + y[3]\\right)^{2}}\\right)}{\\sqrt{\\left(- x[0] + x[2]\\right)^{2} + \\left(- x[1] + x[3]\\right)^{2}} \\sqrt{\\left(- y[0] + y[2]\\right)^{2} + \\left(- y[1] + y[3]\\right)^{2}}}\\end{matrix}\\right]$$"
      ],
      "text/plain": [
       "⎡                    ⎛     ___________________________________      __________\n",
       "⎢                    ⎜    ╱               2                 2      ╱          \n",
       "⎢k[0]⋅(-y[0] + y[2])⋅⎝- ╲╱  (-x[0] + x[2])  + (-x[1] + x[3])   + ╲╱  (-y[0] + \n",
       "⎢─────────────────────────────────────────────────────────────────────────────\n",
       "⎢                ___________________________________    ______________________\n",
       "⎢               ╱               2                 2    ╱               2      \n",
       "⎢             ╲╱  (-x[0] + x[2])  + (-x[1] + x[3])  ⋅╲╱  (-y[0] + y[2])  + (-y\n",
       "⎢                                                                             \n",
       "⎢                    ⎛     ___________________________________      __________\n",
       "⎢                    ⎜    ╱               2                 2      ╱          \n",
       "⎢k[0]⋅(-y[1] + y[3])⋅⎝- ╲╱  (-x[0] + x[2])  + (-x[1] + x[3])   + ╲╱  (-y[0] + \n",
       "⎢─────────────────────────────────────────────────────────────────────────────\n",
       "⎢                ___________________________________    ______________________\n",
       "⎢               ╱               2                 2    ╱               2      \n",
       "⎣             ╲╱  (-x[0] + x[2])  + (-x[1] + x[3])  ⋅╲╱  (-y[0] + y[2])  + (-y\n",
       "\n",
       "_________________________⎞⎤\n",
       "     2                 2 ⎟⎥\n",
       "y[2])  + (-y[1] + y[3])  ⎠⎥\n",
       "──────────────────────────⎥\n",
       "_____________             ⎥\n",
       "           2              ⎥\n",
       "[1] + y[3])               ⎥\n",
       "                          ⎥\n",
       "_________________________⎞⎥\n",
       "     2                 2 ⎟⎥\n",
       "y[2])  + (-y[1] + y[3])  ⎠⎥\n",
       "──────────────────────────⎥\n",
       "_____________             ⎥\n",
       "           2              ⎥\n",
       "[1] + y[3])               ⎦"
      ]
     },
     "execution_count": 6,
     "metadata": {},
     "output_type": "execute_result"
    }
   ],
   "source": [
    "f = i_k[0]*(L_defo-L_orig)/L_orig * (y1-y0)/L_defo\n",
    "f"
   ]
  },
  {
   "cell_type": "markdown",
   "metadata": {
    "deletable": true,
    "editable": true
   },
   "source": [
    "Similarly, we have to index `i_k` to get a scalar because all `PopcornVariable` types (`Input` and `Output` are children) are Matrices. (Conditional inheritance to subclass `Symbol` on length 1 variables was attempted and abandoned. There is still conditional inheritance; `PopcornVariable`s can have an unknown size based on `l_edge`, in which case it cannot be represented as a Matrix, and it needs to indexed into with `Vertex_Handle` or `__get_item__`. It supports indexing into with symbolic expressions, where it returns out a `Matrix` of fixed size.)"
   ]
  },
  {
   "cell_type": "code",
   "execution_count": 7,
   "metadata": {
    "collapsed": false,
    "deletable": true,
    "editable": true
   },
   "outputs": [
    {
     "data": {
      "image/png": "[encoded data removed]",
      "text/latex": [
       "$$\\left[\\begin{matrix}\\frac{k[0] \\left(- y[0] + y[2]\\right) \\left(- \\sqrt{\\left(- x[0] + x[2]\\right)^{2} + \\left(- x[1] + x[3]\\right)^{2}} + \\sqrt{\\left(- y[0] + y[2]\\right)^{2} + \\left(- y[1] + y[3]\\right)^{2}}\\right)}{\\sqrt{\\left(- x[0] + x[2]\\right)^{2} + \\left(- x[1] + x[3]\\right)^{2}} \\sqrt{\\left(- y[0] + y[2]\\right)^{2} + \\left(- y[1] + y[3]\\right)^{2}}}\\\\\\frac{k[0] \\left(- y[1] + y[3]\\right) \\left(- \\sqrt{\\left(- x[0] + x[2]\\right)^{2} + \\left(- x[1] + x[3]\\right)^{2}} + \\sqrt{\\left(- y[0] + y[2]\\right)^{2} + \\left(- y[1] + y[3]\\right)^{2}}\\right)}{\\sqrt{\\left(- x[0] + x[2]\\right)^{2} + \\left(- x[1] + x[3]\\right)^{2}} \\sqrt{\\left(- y[0] + y[2]\\right)^{2} + \\left(- y[1] + y[3]\\right)^{2}}}\\\\- \\frac{k[0] \\left(- y[0] + y[2]\\right) \\left(- \\sqrt{\\left(- x[0] + x[2]\\right)^{2} + \\left(- x[1] + x[3]\\right)^{2}} + \\sqrt{\\left(- y[0] + y[2]\\right)^{2} + \\left(- y[1] + y[3]\\right)^{2}}\\right)}{\\sqrt{\\left(- x[0] + x[2]\\right)^{2} + \\left(- x[1] + x[3]\\right)^{2}} \\sqrt{\\left(- y[0] + y[2]\\right)^{2} + \\left(- y[1] + y[3]\\right)^{2}}}\\\\- \\frac{k[0] \\left(- y[1] + y[3]\\right) \\left(- \\sqrt{\\left(- x[0] + x[2]\\right)^{2} + \\left(- x[1] + x[3]\\right)^{2}} + \\sqrt{\\left(- y[0] + y[2]\\right)^{2} + \\left(- y[1] + y[3]\\right)^{2}}\\right)}{\\sqrt{\\left(- x[0] + x[2]\\right)^{2} + \\left(- x[1] + x[3]\\right)^{2}} \\sqrt{\\left(- y[0] + y[2]\\right)^{2} + \\left(- y[1] + y[3]\\right)^{2}}}\\end{matrix}\\right]$$"
      ],
      "text/plain": [
       "⎡                     ⎛     ___________________________________      _________\n",
       "⎢                     ⎜    ╱               2                 2      ╱         \n",
       "⎢ k[0]⋅(-y[0] + y[2])⋅⎝- ╲╱  (-x[0] + x[2])  + (-x[1] + x[3])   + ╲╱  (-y[0] +\n",
       "⎢ ────────────────────────────────────────────────────────────────────────────\n",
       "⎢                 ___________________________________    _____________________\n",
       "⎢                ╱               2                 2    ╱               2     \n",
       "⎢              ╲╱  (-x[0] + x[2])  + (-x[1] + x[3])  ⋅╲╱  (-y[0] + y[2])  + (-\n",
       "⎢                                                                             \n",
       "⎢                     ⎛     ___________________________________      _________\n",
       "⎢                     ⎜    ╱               2                 2      ╱         \n",
       "⎢ k[0]⋅(-y[1] + y[3])⋅⎝- ╲╱  (-x[0] + x[2])  + (-x[1] + x[3])   + ╲╱  (-y[0] +\n",
       "⎢ ────────────────────────────────────────────────────────────────────────────\n",
       "⎢                 ___________________________________    _____________________\n",
       "⎢                ╱               2                 2    ╱               2     \n",
       "⎢              ╲╱  (-x[0] + x[2])  + (-x[1] + x[3])  ⋅╲╱  (-y[0] + y[2])  + (-\n",
       "⎢                                                                             \n",
       "⎢                     ⎛     ___________________________________      _________\n",
       "⎢                     ⎜    ╱               2                 2      ╱         \n",
       "⎢-k[0]⋅(-y[0] + y[2])⋅⎝- ╲╱  (-x[0] + x[2])  + (-x[1] + x[3])   + ╲╱  (-y[0] +\n",
       "⎢─────────────────────────────────────────────────────────────────────────────\n",
       "⎢                 ___________________________________    _____________________\n",
       "⎢                ╱               2                 2    ╱               2     \n",
       "⎢              ╲╱  (-x[0] + x[2])  + (-x[1] + x[3])  ⋅╲╱  (-y[0] + y[2])  + (-\n",
       "⎢                                                                             \n",
       "⎢                     ⎛     ___________________________________      _________\n",
       "⎢                     ⎜    ╱               2                 2      ╱         \n",
       "⎢-k[0]⋅(-y[1] + y[3])⋅⎝- ╲╱  (-x[0] + x[2])  + (-x[1] + x[3])   + ╲╱  (-y[0] +\n",
       "⎢─────────────────────────────────────────────────────────────────────────────\n",
       "⎢                 ___________________________________    _____________________\n",
       "⎢                ╱               2                 2    ╱               2     \n",
       "⎣              ╲╱  (-x[0] + x[2])  + (-x[1] + x[3])  ⋅╲╱  (-y[0] + y[2])  + (-\n",
       "\n",
       "__________________________⎞ ⎤\n",
       "      2                 2 ⎟ ⎥\n",
       " y[2])  + (-y[1] + y[3])  ⎠ ⎥\n",
       "─────────────────────────── ⎥\n",
       "______________              ⎥\n",
       "            2               ⎥\n",
       "y[1] + y[3])                ⎥\n",
       "                            ⎥\n",
       "__________________________⎞ ⎥\n",
       "      2                 2 ⎟ ⎥\n",
       " y[2])  + (-y[1] + y[3])  ⎠ ⎥\n",
       "─────────────────────────── ⎥\n",
       "______________              ⎥\n",
       "            2               ⎥\n",
       "y[1] + y[3])                ⎥\n",
       "                            ⎥\n",
       "__________________________⎞ ⎥\n",
       "      2                 2 ⎟ ⎥\n",
       " y[2])  + (-y[1] + y[3])  ⎠ ⎥\n",
       "────────────────────────────⎥\n",
       "______________              ⎥\n",
       "            2               ⎥\n",
       "y[1] + y[3])                ⎥\n",
       "                            ⎥\n",
       "__________________________⎞ ⎥\n",
       "      2                 2 ⎟ ⎥\n",
       " y[2])  + (-y[1] + y[3])  ⎠ ⎥\n",
       "────────────────────────────⎥\n",
       "______________              ⎥\n",
       "            2               ⎥\n",
       "y[1] + y[3])                ⎦"
      ]
     },
     "execution_count": 7,
     "metadata": {},
     "output_type": "execute_result"
    }
   ],
   "source": [
    "R = Matrix([f,-f])\n",
    "R"
   ]
  },
  {
   "cell_type": "markdown",
   "metadata": {
    "deletable": true,
    "editable": true
   },
   "source": [
    "Let's make sure we did that right..."
   ]
  },
  {
   "cell_type": "code",
   "execution_count": 8,
   "metadata": {
    "collapsed": false,
    "deletable": true,
    "editable": true,
    "scrolled": true
   },
   "outputs": [
    {
     "data": {
      "image/png": "[encoded data removed]",
      "text/latex": [
       "$$\\left ( 4, \\quad 1\\right )$$"
      ],
      "text/plain": [
       "(4, 1)"
      ]
     },
     "execution_count": 8,
     "metadata": {},
     "output_type": "execute_result"
    }
   ],
   "source": [
    "R.shape"
   ]
  },
  {
   "cell_type": "code",
   "execution_count": 9,
   "metadata": {
    "collapsed": false,
    "deletable": true,
    "editable": true
   },
   "outputs": [
    {
     "data": {
      "image/png": "[encoded data removed]",
      "text/latex": [
       "$$\\left[\\begin{matrix}- \\frac{k[0] \\left(y[0] - y[2]\\right)^{2}}{\\left(\\left(y[0] - y[2]\\right)^{2} + \\left(y[1] - y[3]\\right)^{2}\\right)^{\\frac{3}{2}}} + \\frac{k[0]}{\\sqrt{\\left(y[0] - y[2]\\right)^{2} + \\left(y[1] - y[3]\\right)^{2}}} - \\frac{k[0]}{\\sqrt{\\left(x[0] - x[2]\\right)^{2} + \\left(x[1] - x[3]\\right)^{2}}} & - \\frac{k[0] \\left(y[0] y[1] - y[0] y[3] - y[1] y[2] + y[2] y[3]\\right)}{\\left(y[0]^{2} - 2 y[0] y[2] + y[1]^{2} - 2 y[1] y[3] + y[2]^{2} + y[3]^{2}\\right)^{\\frac{3}{2}}} & \\frac{k[0] \\left(y[0] - y[2]\\right)^{2}}{\\left(\\left(y[0] - y[2]\\right)^{2} + \\left(y[1] - y[3]\\right)^{2}\\right)^{\\frac{3}{2}}} - \\frac{k[0]}{\\sqrt{\\left(y[0] - y[2]\\right)^{2} + \\left(y[1] - y[3]\\right)^{2}}} + \\frac{k[0]}{\\sqrt{\\left(x[0] - x[2]\\right)^{2} + \\left(x[1] - x[3]\\right)^{2}}} & \\frac{k[0] \\left(y[0] y[1] - y[0] y[3] - y[1] y[2] + y[2] y[3]\\right)}{\\left(y[0]^{2} - 2 y[0] y[2] + y[1]^{2} - 2 y[1] y[3] + y[2]^{2} + y[3]^{2}\\right)^{\\frac{3}{2}}}\\\\- \\frac{k[0] \\left(y[0] y[1] - y[0] y[3] - y[1] y[2] + y[2] y[3]\\right)}{\\left(y[0]^{2} - 2 y[0] y[2] + y[1]^{2} - 2 y[1] y[3] + y[2]^{2} + y[3]^{2}\\right)^{\\frac{3}{2}}} & - \\frac{k[0] \\left(y[1] - y[3]\\right)^{2}}{\\left(\\left(y[0] - y[2]\\right)^{2} + \\left(y[1] - y[3]\\right)^{2}\\right)^{\\frac{3}{2}}} + \\frac{k[0]}{\\sqrt{\\left(y[0] - y[2]\\right)^{2} + \\left(y[1] - y[3]\\right)^{2}}} - \\frac{k[0]}{\\sqrt{\\left(x[0] - x[2]\\right)^{2} + \\left(x[1] - x[3]\\right)^{2}}} & \\frac{k[0] \\left(y[0] y[1] - y[0] y[3] - y[1] y[2] + y[2] y[3]\\right)}{\\left(y[0]^{2} - 2 y[0] y[2] + y[1]^{2} - 2 y[1] y[3] + y[2]^{2} + y[3]^{2}\\right)^{\\frac{3}{2}}} & \\frac{k[0] \\left(y[1] - y[3]\\right)^{2}}{\\left(\\left(y[0] - y[2]\\right)^{2} + \\left(y[1] - y[3]\\right)^{2}\\right)^{\\frac{3}{2}}} - \\frac{k[0]}{\\sqrt{\\left(y[0] - y[2]\\right)^{2} + \\left(y[1] - y[3]\\right)^{2}}} + \\frac{k[0]}{\\sqrt{\\left(x[0] - x[2]\\right)^{2} + \\left(x[1] - x[3]\\right)^{2}}}\\\\\\frac{k[0] \\left(y[0] - y[2]\\right)^{2}}{\\left(\\left(y[0] - y[2]\\right)^{2} + \\left(y[1] - y[3]\\right)^{2}\\right)^{\\frac{3}{2}}} - \\frac{k[0]}{\\sqrt{\\left(y[0] - y[2]\\right)^{2} + \\left(y[1] - y[3]\\right)^{2}}} + \\frac{k[0]}{\\sqrt{\\left(x[0] - x[2]\\right)^{2} + \\left(x[1] - x[3]\\right)^{2}}} & \\frac{k[0] \\left(y[0] y[1] - y[0] y[3] - y[1] y[2] + y[2] y[3]\\right)}{\\left(y[0]^{2} - 2 y[0] y[2] + y[1]^{2} - 2 y[1] y[3] + y[2]^{2} + y[3]^{2}\\right)^{\\frac{3}{2}}} & - \\frac{k[0] \\left(y[0] - y[2]\\right)^{2}}{\\left(\\left(y[0] - y[2]\\right)^{2} + \\left(y[1] - y[3]\\right)^{2}\\right)^{\\frac{3}{2}}} + \\frac{k[0]}{\\sqrt{\\left(y[0] - y[2]\\right)^{2} + \\left(y[1] - y[3]\\right)^{2}}} - \\frac{k[0]}{\\sqrt{\\left(x[0] - x[2]\\right)^{2} + \\left(x[1] - x[3]\\right)^{2}}} & - \\frac{k[0] \\left(y[0] y[1] - y[0] y[3] - y[1] y[2] + y[2] y[3]\\right)}{\\left(y[0]^{2} - 2 y[0] y[2] + y[1]^{2} - 2 y[1] y[3] + y[2]^{2} + y[3]^{2}\\right)^{\\frac{3}{2}}}\\\\\\frac{k[0] \\left(y[0] y[1] - y[0] y[3] - y[1] y[2] + y[2] y[3]\\right)}{\\left(y[0]^{2} - 2 y[0] y[2] + y[1]^{2} - 2 y[1] y[3] + y[2]^{2} + y[3]^{2}\\right)^{\\frac{3}{2}}} & \\frac{k[0] \\left(y[1] - y[3]\\right)^{2}}{\\left(\\left(y[0] - y[2]\\right)^{2} + \\left(y[1] - y[3]\\right)^{2}\\right)^{\\frac{3}{2}}} - \\frac{k[0]}{\\sqrt{\\left(y[0] - y[2]\\right)^{2} + \\left(y[1] - y[3]\\right)^{2}}} + \\frac{k[0]}{\\sqrt{\\left(x[0] - x[2]\\right)^{2} + \\left(x[1] - x[3]\\right)^{2}}} & - \\frac{k[0] \\left(y[0] y[1] - y[0] y[3] - y[1] y[2] + y[2] y[3]\\right)}{\\left(y[0]^{2} - 2 y[0] y[2] + y[1]^{2} - 2 y[1] y[3] + y[2]^{2} + y[3]^{2}\\right)^{\\frac{3}{2}}} & - \\frac{k[0] \\left(y[1] - y[3]\\right)^{2}}{\\left(\\left(y[0] - y[2]\\right)^{2} + \\left(y[1] - y[3]\\right)^{2}\\right)^{\\frac{3}{2}}} + \\frac{k[0]}{\\sqrt{\\left(y[0] - y[2]\\right)^{2} + \\left(y[1] - y[3]\\right)^{2}}} - \\frac{k[0]}{\\sqrt{\\left(x[0] - x[2]\\right)^{2} + \\left(x[1] - x[3]\\right)^{2}}}\\end{matrix}\\right]$$"
      ],
      "text/plain": [
       "⎡                            2                                                \n",
       "⎢          k[0]⋅(y[0] - y[2])                             k[0]                \n",
       "⎢- ──────────────────────────────────── + ────────────────────────────────────\n",
       "⎢                                   3/2      _________________________________\n",
       "⎢  ⎛             2                2⎞        ╱              2                2 \n",
       "⎢  ⎝(y[0] - y[2])  + (y[1] - y[3]) ⎠      ╲╱  (y[0] - y[2])  + (y[1] - y[3])  \n",
       "⎢                                                                             \n",
       "⎢                                                                             \n",
       "⎢                               -k[0]⋅(y[0]⋅y[1] - y[0]⋅y[3] - y[1]⋅y[2] + y[2\n",
       "⎢                           ──────────────────────────────────────────────────\n",
       "⎢                                                                             \n",
       "⎢                           ⎛    2                     2                     2\n",
       "⎢                           ⎝y[0]  - 2⋅y[0]⋅y[2] + y[1]  - 2⋅y[1]⋅y[3] + y[2] \n",
       "⎢                                                                             \n",
       "⎢                           2                                                 \n",
       "⎢         k[0]⋅(y[0] - y[2])                             k[0]                 \n",
       "⎢ ──────────────────────────────────── - ──────────────────────────────────── \n",
       "⎢                                  3/2      _________________________________ \n",
       "⎢ ⎛             2                2⎞        ╱              2                2  \n",
       "⎢ ⎝(y[0] - y[2])  + (y[1] - y[3]) ⎠      ╲╱  (y[0] - y[2])  + (y[1] - y[3])   \n",
       "⎢                                                                             \n",
       "⎢                                                                             \n",
       "⎢                                k[0]⋅(y[0]⋅y[1] - y[0]⋅y[3] - y[1]⋅y[2] + y[2\n",
       "⎢                           ──────────────────────────────────────────────────\n",
       "⎢                                                                             \n",
       "⎢                           ⎛    2                     2                     2\n",
       "⎣                           ⎝y[0]  - 2⋅y[0]⋅y[2] + y[1]  - 2⋅y[1]⋅y[3] + y[2] \n",
       "\n",
       "                                                                              \n",
       "                   k[0]                                                 -k[0]⋅\n",
       " - ────────────────────────────────────                             ──────────\n",
       "      _________________________________                                       \n",
       "     ╱              2                2                              ⎛    2    \n",
       "   ╲╱  (x[0] - x[2])  + (x[1] - x[3])                               ⎝y[0]  - 2\n",
       "                                                                              \n",
       "                                                                     2        \n",
       "]⋅y[3])                                            k[0]⋅(y[1] - y[3])         \n",
       "────────────                             - ───────────────────────────────────\n",
       "         3/2                                                                3/\n",
       "       2⎞                                  ⎛             2                2⎞  \n",
       " + y[3] ⎠                                  ⎝(y[0] - y[2])  + (y[1] - y[3]) ⎠  \n",
       "                                                                              \n",
       "                                                                              \n",
       "                  k[0]                                                   k[0]⋅\n",
       "+ ────────────────────────────────────                              ──────────\n",
       "     _________________________________                                        \n",
       "    ╱              2                2                               ⎛    2    \n",
       "  ╲╱  (x[0] - x[2])  + (x[1] - x[3])                                ⎝y[0]  - 2\n",
       "                                                                              \n",
       "                                                                    2         \n",
       "]⋅y[3])                                           k[0]⋅(y[1] - y[3])          \n",
       "────────────                              ────────────────────────────────────\n",
       "         3/2                                                               3/2\n",
       "       2⎞                                 ⎛             2                2⎞   \n",
       " + y[3] ⎠                                 ⎝(y[0] - y[2])  + (y[1] - y[3]) ⎠   \n",
       "\n",
       "                                                                              \n",
       "(y[0]⋅y[1] - y[0]⋅y[3] - y[1]⋅y[2] + y[2]⋅y[3])                               \n",
       "────────────────────────────────────────────────────                          \n",
       "                                                 3/2                          \n",
       "                 2                     2       2⎞                             \n",
       "⋅y[0]⋅y[2] + y[1]  - 2⋅y[1]⋅y[3] + y[2]  + y[3] ⎠                             \n",
       "                                                                              \n",
       "                                                                              \n",
       "                    k[0]                                   k[0]               \n",
       "─ + ──────────────────────────────────── - ───────────────────────────────────\n",
       "2      _________________________________      ________________________________\n",
       "      ╱              2                2      ╱              2                2\n",
       "    ╲╱  (y[0] - y[2])  + (y[1] - y[3])     ╲╱  (x[0] - x[2])  + (x[1] - x[3]) \n",
       "                                                                              \n",
       "                                                                              \n",
       "(y[0]⋅y[1] - y[0]⋅y[3] - y[1]⋅y[2] + y[2]⋅y[3])                               \n",
       "────────────────────────────────────────────────────                          \n",
       "                                                 3/2                          \n",
       "                 2                     2       2⎞                             \n",
       "⋅y[0]⋅y[2] + y[1]  - 2⋅y[1]⋅y[3] + y[2]  + y[3] ⎠                             \n",
       "                                                                              \n",
       "                                                                              \n",
       "                   k[0]                                   k[0]                \n",
       " - ──────────────────────────────────── + ────────────────────────────────────\n",
       "      _________________________________      _________________________________\n",
       "     ╱              2                2      ╱              2                2 \n",
       "   ╲╱  (y[0] - y[2])  + (y[1] - y[3])     ╲╱  (x[0] - x[2])  + (x[1] - x[3])  \n",
       "\n",
       "                              2                                               \n",
       "            k[0]⋅(y[0] - y[2])                             k[0]               \n",
       "    ──────────────────────────────────── - ───────────────────────────────────\n",
       "                                     3/2      ________________________________\n",
       "    ⎛             2                2⎞        ╱              2                2\n",
       "    ⎝(y[0] - y[2])  + (y[1] - y[3]) ⎠      ╲╱  (y[0] - y[2])  + (y[1] - y[3]) \n",
       "                                                                              \n",
       "                                                                              \n",
       "                                   k[0]⋅(y[0]⋅y[1] - y[0]⋅y[3] - y[1]⋅y[2] + y\n",
       "─                             ────────────────────────────────────────────────\n",
       "_                                                                             \n",
       "                              ⎛    2                     2                    \n",
       "                              ⎝y[0]  - 2⋅y[0]⋅y[2] + y[1]  - 2⋅y[1]⋅y[3] + y[2\n",
       "                                                                              \n",
       "                               2                                              \n",
       "             k[0]⋅(y[0] - y[2])                             k[0]              \n",
       "   - ──────────────────────────────────── + ──────────────────────────────────\n",
       "                                      3/2      _______________________________\n",
       "     ⎛             2                2⎞        ╱              2                \n",
       "     ⎝(y[0] - y[2])  + (y[1] - y[3]) ⎠      ╲╱  (y[0] - y[2])  + (y[1] - y[3])\n",
       "                                                                              \n",
       "                                                                              \n",
       "                                  -k[0]⋅(y[0]⋅y[1] - y[0]⋅y[3] - y[1]⋅y[2] + y\n",
       "                              ────────────────────────────────────────────────\n",
       "                                                                              \n",
       "                              ⎛    2                     2                    \n",
       "                              ⎝y[0]  - 2⋅y[0]⋅y[2] + y[1]  - 2⋅y[1]⋅y[3] + y[2\n",
       "\n",
       "                                                                              \n",
       "                    k[0]                                                   k[0\n",
       "─ + ────────────────────────────────────                              ────────\n",
       "_      _________________________________                                      \n",
       "      ╱              2                2                               ⎛    2  \n",
       "    ╲╱  (x[0] - x[2])  + (x[1] - x[3])                                ⎝y[0]  -\n",
       "                                                                              \n",
       "                                                                      2       \n",
       "[2]⋅y[3])                                           k[0]⋅(y[1] - y[3])        \n",
       "──────────────                              ──────────────────────────────────\n",
       "           3/2                                                               3\n",
       " 2       2⎞                                 ⎛             2                2⎞ \n",
       "]  + y[3] ⎠                                 ⎝(y[0] - y[2])  + (y[1] - y[3]) ⎠ \n",
       "                                                                              \n",
       "                                                                              \n",
       "                     k[0]                                                 -k[0\n",
       "── - ────────────────────────────────────                             ────────\n",
       "__      _________________________________                                     \n",
       "2      ╱              2                2                              ⎛    2  \n",
       "     ╲╱  (x[0] - x[2])  + (x[1] - x[3])                               ⎝y[0]  -\n",
       "                                                                              \n",
       "                                                                       2      \n",
       "[2]⋅y[3])                                            k[0]⋅(y[1] - y[3])       \n",
       "──────────────                             - ─────────────────────────────────\n",
       "           3/2                                                                \n",
       " 2       2⎞                                  ⎛             2                2⎞\n",
       "]  + y[3] ⎠                                  ⎝(y[0] - y[2])  + (y[1] - y[3]) ⎠\n",
       "\n",
       "                                                                              \n",
       "]⋅(y[0]⋅y[1] - y[0]⋅y[3] - y[1]⋅y[2] + y[2]⋅y[3])                             \n",
       "──────────────────────────────────────────────────────                        \n",
       "                                                   3/2                        \n",
       "                   2                     2       2⎞                           \n",
       " 2⋅y[0]⋅y[2] + y[1]  - 2⋅y[1]⋅y[3] + y[2]  + y[3] ⎠                           \n",
       "                                                                              \n",
       "                                                                              \n",
       "                     k[0]                                   k[0]              \n",
       "── - ──────────────────────────────────── + ──────────────────────────────────\n",
       "/2      _________________________________      _______________________________\n",
       "       ╱              2                2      ╱              2                \n",
       "     ╲╱  (y[0] - y[2])  + (y[1] - y[3])     ╲╱  (x[0] - x[2])  + (x[1] - x[3])\n",
       "                                                                              \n",
       "                                                                              \n",
       "]⋅(y[0]⋅y[1] - y[0]⋅y[3] - y[1]⋅y[2] + y[2]⋅y[3])                             \n",
       "──────────────────────────────────────────────────────                        \n",
       "                                                   3/2                        \n",
       "                   2                     2       2⎞                           \n",
       " 2⋅y[0]⋅y[2] + y[1]  - 2⋅y[1]⋅y[3] + y[2]  + y[3] ⎠                           \n",
       "                                                                              \n",
       "                                                                              \n",
       "                      k[0]                                   k[0]             \n",
       "─── + ──────────────────────────────────── - ─────────────────────────────────\n",
       "3/2      _________________________________      ______________________________\n",
       "        ╱              2                2      ╱              2               \n",
       "      ╲╱  (y[0] - y[2])  + (y[1] - y[3])     ╲╱  (x[0] - x[2])  + (x[1] - x[3]\n",
       "\n",
       "   ⎤\n",
       "   ⎥\n",
       "   ⎥\n",
       "   ⎥\n",
       "   ⎥\n",
       "   ⎥\n",
       "   ⎥\n",
       "   ⎥\n",
       "   ⎥\n",
       "── ⎥\n",
       "__ ⎥\n",
       "2  ⎥\n",
       "   ⎥\n",
       "   ⎥\n",
       "   ⎥\n",
       "   ⎥\n",
       "   ⎥\n",
       "   ⎥\n",
       "   ⎥\n",
       "   ⎥\n",
       "   ⎥\n",
       "   ⎥\n",
       "   ⎥\n",
       "───⎥\n",
       "___⎥\n",
       " 2 ⎥\n",
       ")  ⎦"
      ]
     },
     "execution_count": 9,
     "metadata": {},
     "output_type": "execute_result"
    }
   ],
   "source": [
    "K = R.jacobian(i_y)\n",
    "K.simplify() # This takes a long time!\n",
    "K"
   ]
  },
  {
   "cell_type": "markdown",
   "metadata": {
    "deletable": true,
    "editable": true
   },
   "source": [
    "Now we define two output `PopcornVariable`s\n",
    "\n",
    "There is a global context that manages a list of initialized Inputs, Outputs, and Kernels. Each Kernel travels the program listing to figure out which variables need to be included in the arguments, making it easy to make a whole bunch of different kernels with different arguments that share the same symbolic work."
   ]
  },
  {
   "cell_type": "code",
   "execution_count": 10,
   "metadata": {
    "collapsed": false,
    "deletable": true,
    "editable": true
   },
   "outputs": [
    {
     "data": {
      "text/plain": [
       "<popcorn.Kernel.Kernel instance at 0x10d68ccb0>"
      ]
     },
     "execution_count": 10,
     "metadata": {},
     "output_type": "execute_result"
    }
   ],
   "source": [
    "o_R = Output('R',[Vector],1)\n",
    "o_K = Output('K',[Vector],2)\n",
    "Kernel(\"spring_force\",\n",
    "      listing=[\n",
    "          Asgn(o_R,R,'='),\n",
    "          Asgn(o_K,K,'=')\n",
    "      ])"
   ]
  },
  {
   "cell_type": "markdown",
   "metadata": {
    "deletable": true,
    "editable": true
   },
   "source": [
    "The final line of a popcorn specification is the `Husk` call. $<$bad pun$>$The husk contains the kernels.$</$sorry$>$ It generates all of the C code files for all of the Kernels defined in the file and the required build system and Python wrapper."
   ]
  },
  {
   "cell_type": "code",
   "execution_count": 11,
   "metadata": {
    "collapsed": true,
    "deletable": true,
    "editable": true
   },
   "outputs": [],
   "source": [
    "# This rm line is to highlight the mechanics of it in the next section\n",
    "%rm -rf husk_spring\n",
    "# The final call:\n",
    "Husk('spring')"
   ]
  },
  {
   "cell_type": "markdown",
   "metadata": {
    "deletable": true,
    "editable": true
   },
   "source": [
    "# Intermezzo: the husk"
   ]
  },
  {
   "cell_type": "markdown",
   "metadata": {
    "deletable": true,
    "editable": true
   },
   "source": [
    "The `Husk` command writes out a Python module with the name `\"husk_\"+argument`. There is no hidden cache or JIT runtime in cornflakes: everything is sitting in this directory that you can move around and ship with your production code. \n",
    "This design choice is to highlight a  \n",
    "The popcorn file only needs to be run once and then loaded everytime you \n",
    "\n",
    "What's in the husk?"
   ]
  },
  {
   "cell_type": "code",
   "execution_count": 12,
   "metadata": {
    "collapsed": false,
    "deletable": true,
    "editable": true,
    "scrolled": true
   },
   "outputs": [
    {
     "name": "stdout",
     "output_type": "stream",
     "text": [
      "CMakeLists.txt    kernels_spring.h  spring_force.h\r\n",
      "__init__.py       spring_force.c    spring_swig.i\r\n"
     ]
    }
   ],
   "source": [
    "%ls husk_spring"
   ]
  },
  {
   "cell_type": "markdown",
   "metadata": {
    "deletable": true,
    "editable": true
   },
   "source": [
    "This directory contains the C files, autogenerated SWIG interface, and a CMake specification, all within the confines of a Python module. We can just import it now,"
   ]
  },
  {
   "cell_type": "code",
   "execution_count": 13,
   "metadata": {
    "collapsed": true,
    "deletable": true,
    "editable": true
   },
   "outputs": [],
   "source": [
    "import husk_spring"
   ]
  },
  {
   "cell_type": "markdown",
   "metadata": {
    "deletable": true,
    "editable": true
   },
   "source": [
    "If you look at the standard out of the notebook server, you'll see the compilation process for the husk:\n",
    "```\n",
    "[ 25%] Swig source\n",
    "Scanning dependencies of target _spring_lib\n",
    "[ 50%] Building C object CMakeFiles/_spring_lib.dir/spring_swigPYTHON_wrap.c.o\n",
    "[ 75%] Building C object CMakeFiles/_spring_lib.dir/spring_force.c.o\n",
    "[100%] Linking C shared module _spring_lib.so\n",
    "[100%] Built target _spring_lib\n",
    "```\n",
    "It will only compile the first time. If the husk isn't touched, only the Built target line will be present."
   ]
  },
  {
   "cell_type": "code",
   "execution_count": 14,
   "metadata": {
    "collapsed": false,
    "deletable": true,
    "editable": true
   },
   "outputs": [
    {
     "name": "stdout",
     "output_type": "stream",
     "text": [
      "CMakeCache.txt            __init__.pyc              spring_force.h\r\n",
      "\u001b[34mCMakeFiles\u001b[m\u001b[m/               \u001b[31m_spring_lib.so\u001b[m\u001b[m*           spring_lib.py\r\n",
      "CMakeLists.txt            cmake_install.cmake       spring_lib.pyc\r\n",
      "Makefile                  kernels_spring.h          spring_swig.i\r\n",
      "__init__.py               spring_force.c            spring_swigPYTHON_wrap.c\r\n"
     ]
    }
   ],
   "source": [
    "%ls husk_spring"
   ]
  },
  {
   "cell_type": "markdown",
   "metadata": {
    "deletable": true,
    "editable": true
   },
   "source": [
    "Everything has been built for the current machine. \n",
    "You can even delete all of the files and keep only the `__init__.pyc` and `_spring_lib.so` if the containing code is sensitive. (Not every application is open source.) The original file containing the popcorn specification does not need to be included in the shipped code, either.\n",
    "\n",
    "*Pitfall warning*: You'll have to purge it manually if you're working within, say, a Dropbox folder synced to Linux and Mac machine. It gets confused. But, it is not an issue if it copy it into a folder such as /opt/myprogram with install step and import it from there."
   ]
  },
  {
   "cell_type": "markdown",
   "metadata": {
    "deletable": true,
    "editable": true
   },
   "source": [
    "The generated C file is even (more or less) human readable, if we examine it by truncating the long equations:"
   ]
  },
  {
   "cell_type": "code",
   "execution_count": 15,
   "metadata": {
    "collapsed": false,
    "deletable": true,
    "editable": true,
    "scrolled": true
   },
   "outputs": [
    {
     "name": "stdout",
     "output_type": "stream",
     "text": [
      "#include \"spring_force.h\"\r\n",
      "\r\n",
      "#include \"math.h\"\r\n",
      "#include <gsl/gsl_linalg.h>\r\n",
      "\r\n",
      "void spring_force_eval(int l_edge,\r\n",
      "/*Inputs:*/\r\n",
      "const real_t * restrict y,\r\n",
      "const real_t * restrict x,\r\n",
      "const real_t * restrict k,\r\n",
      "/*Outputs:*/\r\n",
      "real_t * restrict K,\r\n",
      "real_t * restrict R)\r\n",
      "{\r\n",
      "/* Evaluation of R */\r\n",
      "R[0]= k[0]*(-y[0] + y[2])*(-sqrt(pow(-x[0] + x[2], 2) + pow(-x[1] + x[3], 2)) + sqrt(pow(-\r\n",
      "R[1]= k[0]*(-y[1] + y[3])*(-sqrt(pow(-x[0] + x[2], 2) + pow(-x[1] + x[3], 2)) + sqrt(pow(-\r\n",
      "R[2]= -k[0]*(-y[0] + y[2])*(-sqrt(pow(-x[0] + x[2], 2) + pow(-x[1] + x[3], 2)) + sqrt(pow(\r\n",
      "R[3]= -k[0]*(-y[1] + y[3])*(-sqrt(pow(-x[0] + x[2], 2) + pow(-x[1] + x[3], 2)) + sqrt(pow(\r\n",
      "\r\n",
      "/* Evaluation of K */\r\n",
      "K[0]= -k[0]*pow(y[0] - y[2], 2)/pow(pow(y[0] - y[2], 2) + pow(y[1] - y[3], 2), 3.0L/2.0L) \r\n",
      "K[1]= -k[0]*(y[0]*y[1] - y[0]*y[3] - y[1]*y[2] + y[2]*y[3])/pow(pow(y[0], 2) - 2*y[0]*y[2]\r\n",
      "K[2]= k[0]*pow(y[0] - y[2], 2)/pow(pow(y[0] - y[2], 2) + pow(y[1] - y[3], 2), 3.0L/2.0L) -\r\n",
      "K[3]= k[0]*(y[0]*y[1] - y[0]*y[3] - y[1]*y[2] + y[2]*y[3])/pow(pow(y[0], 2) - 2*y[0]*y[2] \r\n",
      "K[4]= -k[0]*(y[0]*y[1] - y[0]*y[3] - y[1]*y[2] + y[2]*y[3])/pow(pow(y[0], 2) - 2*y[0]*y[2]\r\n",
      "K[5]= -k[0]*pow(y[1] - y[3], 2)/pow(pow(y[0] - y[2], 2) + pow(y[1] - y[3], 2), 3.0L/2.0L) \r\n",
      "K[6]= k[0]*(y[0]*y[1] - y[0]*y[3] - y[1]*y[2] + y[2]*y[3])/pow(pow(y[0], 2) - 2*y[0]*y[2] \r\n",
      "K[7]= k[0]*pow(y[1] - y[3], 2)/pow(pow(y[0] - y[2], 2) + pow(y[1] - y[3], 2), 3.0L/2.0L) -\r\n",
      "K[8]= k[0]*pow(y[0] - y[2], 2)/pow(pow(y[0] - y[2], 2) + pow(y[1] - y[3], 2), 3.0L/2.0L) -\r\n",
      "K[9]= k[0]*(y[0]*y[1] - y[0]*y[3] - y[1]*y[2] + y[2]*y[3])/pow(pow(y[0], 2) - 2*y[0]*y[2] \r\n",
      "K[10]= -k[0]*pow(y[0] - y[2], 2)/pow(pow(y[0] - y[2], 2) + pow(y[1] - y[3], 2), 3.0L/2.0L)\r\n",
      "K[11]= -k[0]*(y[0]*y[1] - y[0]*y[3] - y[1]*y[2] + y[2]*y[3])/pow(pow(y[0], 2) - 2*y[0]*y[2\r\n",
      "K[12]= k[0]*(y[0]*y[1] - y[0]*y[3] - y[1]*y[2] + y[2]*y[3])/pow(pow(y[0], 2) - 2*y[0]*y[2]\r\n",
      "K[13]= k[0]*pow(y[1] - y[3], 2)/pow(pow(y[0] - y[2], 2) + pow(y[1] - y[3], 2), 3.0L/2.0L) \r\n",
      "K[14]= -k[0]*(y[0]*y[1] - y[0]*y[3] - y[1]*y[2] + y[2]*y[3])/pow(pow(y[0], 2) - 2*y[0]*y[2\r\n",
      "K[15]= -k[0]*pow(y[1] - y[3], 2)/pow(pow(y[0] - y[2], 2) + pow(y[1] - y[3], 2), 3.0L/2.0L)\r\n",
      "}\r\n",
      "\r\n",
      "void spring_force_eval_wr(int l_edge, const real_t * restrict in, real_t * restrict out) {\r\n",
      "   spring_force_eval(l_edge,in, in+(int)(4), in+(int)(4)+(int)(4), \r\n",
      "out, out+(int)(16));\r\n",
      "}\r\n",
      "\r\n",
      "void kmap_spring_force0(int * edge, int l_edge, int * verts, int * n, int * dim) {\r\n",
      "  int i;\r\n",
      "  *dim = 2;\r\n",
      "  *n = (int)((int)(2));\r\n",
      "  if(edge) {\r\n",
      "    for( i=0 ; i<*n ; i++ ) {\r\n",
      "      verts[i] = edge[(int)(0) + 1*i];\r\n",
      "    }\r\n",
      "  }\r\n",
      "}\r\n",
      "void kmap_spring_force1(int * edge, int l_edge, int * verts, int * n, int * dim) {\r\n",
      "  int i;\r\n",
      "  *dim = 1;\r\n",
      "  *n = (int)(1);\r\n",
      "  if(edge) verts[0]=0;\r\n",
      "}\r\n",
      "kernel_t kernel_spring_force = {\r\n",
      ".nmap = 2,\r\n",
      ".maps = {\r\n",
      "kmap_spring_force0,\r\n",
      "kmap_spring_force1\r\n",
      "},\r\n",
      "\r\n",
      ".ninp = 3,\r\n",
      ".inp = {\r\n",
      "{ .field_number=0, .map_num=0, .name=\"y\" },\r\n",
      "{ .field_number=1, .map_num=0, .name=\"x\" },\r\n",
      "{ .field_number=2, .map_num=1, .name=\"k\" }\r\n",
      "},\r\n",
      "\r\n",
      ".noutp = 2,\r\n",
      ".outp = {\r\n",
      "{ .rank = 2, .nmap = 1, .map_nums = { 0 }, .name=\"K\" },\r\n",
      "{ .rank = 1, .nmap = 1, .map_nums = { 0 }, .name=\"R\" }\r\n",
      "},\r\n",
      ".eval=spring_force_eval_wr,\r\n",
      ".name=\"spring_force\"\r\n",
      "};\r\n",
      "\r\n"
     ]
    }
   ],
   "source": [
    "!cut -c -90 husk_spring/spring_force.c"
   ]
  },
  {
   "cell_type": "markdown",
   "metadata": {
    "deletable": true,
    "editable": true
   },
   "source": [
    "The file is two parts: 1) The generated C function, `spring_force_eval`, and 2) the kernel struct that is its call signature for cornflakes. The generated C function is self explanatory to call; all of the inputs and outputs are just pointers to `real_t`s (which is a `typedef` to `double` by default).\n",
    "\n",
    "**It's possible to call the generated C function by itself without using cornflakes!** In that sense, popcorn can be used to help generate code for existing software without having to completely switch mindsets to use cornflakes."
   ]
  },
  {
   "cell_type": "markdown",
   "metadata": {
    "deletable": true,
    "editable": true
   },
   "source": [
    "Don't read much into the phrase \"human-readable\". In Stone, an LBNL geomechanics code linked to TOUGH+, some of the kernel C files are up to 2MB! This is on par with the size of the C++ classes that FEniCS's ffc can generate. The whole reason for pursuing Python-based code generation is that actually programming C or Fortran code for some of the equations we encounter isn't even humanly tractable!\n",
    "\n",
    "The user has no reason to ever look at any of these files (unlike myself, who spends a lot of time looking at these to debug them). It is possible to directly inject C code into the function from the Python specification, which may merit a double-check to make sure it looks right. This husk directory can be treated as a block box that can be moved around, copied from system to system, and imported by the actual calculation in Python."
   ]
  },
  {
   "cell_type": "markdown",
   "metadata": {
    "deletable": true,
    "editable": true
   },
   "source": [
    "# Part 2: Cornflakes"
   ]
  },
  {
   "cell_type": "markdown",
   "metadata": {
    "deletable": true,
    "editable": true
   },
   "source": [
    "**I restart the Jupyter kernel here.**"
   ]
  },
  {
   "cell_type": "code",
   "execution_count": 1,
   "metadata": {
    "collapsed": false,
    "deletable": true,
    "editable": true
   },
   "outputs": [
    {
     "ename": "ImportError",
     "evalue": "No module named cornflakes",
     "output_type": "error",
     "traceback": [
      "\u001b[0;31m---------------------------------------------------------------------------\u001b[0m",
      "\u001b[0;31mImportError\u001b[0m                               Traceback (most recent call last)",
      "\u001b[0;32m<ipython-input-1-fe542e7568e9>\u001b[0m in \u001b[0;36m<module>\u001b[0;34m()\u001b[0m\n\u001b[0;32m----> 1\u001b[0;31m \u001b[0;32mimport\u001b[0m \u001b[0mcornflakes\u001b[0m \u001b[0;32mas\u001b[0m \u001b[0mcf\u001b[0m\u001b[0;34m\u001b[0m\u001b[0m\n\u001b[0m\u001b[1;32m      2\u001b[0m \u001b[0;32mimport\u001b[0m \u001b[0mnumpy\u001b[0m \u001b[0;32mas\u001b[0m \u001b[0mnp\u001b[0m\u001b[0;34m\u001b[0m\u001b[0m\n\u001b[1;32m      3\u001b[0m \u001b[0;32mfrom\u001b[0m \u001b[0mmatplotlib\u001b[0m \u001b[0;32mimport\u001b[0m \u001b[0mpylab\u001b[0m \u001b[0;32mas\u001b[0m \u001b[0mplt\u001b[0m\u001b[0;34m\u001b[0m\u001b[0m\n",
      "\u001b[0;31mImportError\u001b[0m: No module named cornflakes"
     ]
    }
   ],
   "source": [
    "import cornflakes as cf\n",
    "import numpy as np\n",
    "from matplotlib import pylab as plt"
   ]
  },
  {
   "cell_type": "markdown",
   "metadata": {
    "deletable": true,
    "editable": true
   },
   "source": [
    "The husk containing our kernels is an importable module."
   ]
  },
  {
   "cell_type": "code",
   "execution_count": null,
   "metadata": {
    "collapsed": true,
    "deletable": true,
    "editable": true
   },
   "outputs": [],
   "source": [
    "import husk_spring"
   ]
  },
  {
   "cell_type": "markdown",
   "metadata": {
    "deletable": true,
    "editable": true
   },
   "source": [
    "Even though cornflakes doesn't care about the geometry, it still provides some basic helper functions for building up geometries, since that's probably what you want to do with it."
   ]
  },
  {
   "cell_type": "code",
   "execution_count": null,
   "metadata": {
    "collapsed": true,
    "deletable": true,
    "editable": true
   },
   "outputs": [],
   "source": [
    "x = cf.PP.init_grid(10,10,[0,0],[1,0],[0,1])\n",
    "y = x.copy()\n",
    "H = cf.Graphers.Build_Pair_Graph(x,0.2)"
   ]
  },
  {
   "cell_type": "markdown",
   "metadata": {
    "deletable": true,
    "editable": true
   },
   "source": [
    "Let's take a look at the first 10 entries in the graph:"
   ]
  },
  {
   "cell_type": "code",
   "execution_count": null,
   "metadata": {
    "collapsed": false,
    "deletable": true,
    "editable": true,
    "scrolled": true
   },
   "outputs": [],
   "source": [
    "H.view()[0][10:20]"
   ]
  },
  {
   "cell_type": "markdown",
   "metadata": {
    "deletable": true,
    "editable": true
   },
   "source": [
    "In cornflakes, every hypervertex is assigned a unique integer. Each hyperedge is an ordered list of hypervertices of arbitrary length. In our model, the hypergraph is just a list of pairs. If we do a graphical plot of the edges in H as lines connecting the points, which is the physical interpretation of our model, we see the physical object we built in two lines of code:"
   ]
  },
  {
   "cell_type": "code",
   "execution_count": null,
   "metadata": {
    "collapsed": false,
    "deletable": true,
    "editable": true
   },
   "outputs": [],
   "source": [
    "plt.scatter(x[:,0],x[:,1],color='k')\n",
    "for e in H:\n",
    "    plt.plot(x[e,0],x[e,1],color='k')\n",
    "plt.show()"
   ]
  },
  {
   "cell_type": "markdown",
   "metadata": {
    "deletable": true,
    "editable": true
   },
   "source": [
    "The data keys and the Inputs of the kernel **must** have the same values. Don't worry if you are mixing and matching kernels, though; it's possible to reference the same arrays in different data dicts with different names. Cornflakes doesn't force you to organize your data a certain way, you get to tell cornflakes where it is! The data array is just an argument list; it can be inlined in the `Assemble` call, but it's often good practice to declare once and keep a consistent variable naming scheme everywhere."
   ]
  },
  {
   "cell_type": "code",
   "execution_count": null,
   "metadata": {
    "collapsed": true,
    "deletable": true,
    "editable": true
   },
   "outputs": [],
   "source": [
    "dm_scalar = cf.Dofmap_Strided(1)\n",
    "dm_vector = cf.Dofmap_Strided(2)\n",
    "data = {\n",
    "    'x':(x,dm_vector),\n",
    "    'y':(y,dm_vector),\n",
    "    'k':(np.array([1.0]),dm_scalar)\n",
    "}"
   ]
  },
  {
   "cell_type": "markdown",
   "metadata": {
    "deletable": true,
    "editable": true
   },
   "source": [
    "The Dofmap objects take Vertex ids as inputs, and "
   ]
  },
  {
   "cell_type": "code",
   "execution_count": null,
   "metadata": {
    "collapsed": false,
    "deletable": true,
    "editable": true,
    "scrolled": false
   },
   "outputs": [],
   "source": [
    "dm_vector.Get(2)"
   ]
  },
  {
   "cell_type": "code",
   "execution_count": null,
   "metadata": {
    "collapsed": false,
    "deletable": true,
    "editable": true
   },
   "outputs": [],
   "source": [
    "dm_scalar.Get(2)"
   ]
  },
  {
   "cell_type": "markdown",
   "metadata": {
    "deletable": true,
    "editable": true
   },
   "source": [
    "There's also `Dofmap_Tabled` for using a lookup table on the hypervertex id."
   ]
  },
  {
   "cell_type": "code",
   "execution_count": null,
   "metadata": {
    "collapsed": true,
    "deletable": true,
    "editable": true
   },
   "outputs": [],
   "source": [
    "K,R = cf.Assemble(husk_spring.kernel_spring_force,\n",
    "                   H,data,\n",
    "                   {'R':(dm_vector,),'K':(dm_vector,)},\n",
    "                   ndof=x.size)"
   ]
  },
  {
   "cell_type": "markdown",
   "metadata": {
    "deletable": true,
    "editable": true
   },
   "source": [
    "In the simplest case, cornflakes returns Numpy and Scipy objects. This is how I do my debugging and new model development. The ability to play with and spy the matrix is extremely useful:"
   ]
  },
  {
   "cell_type": "code",
   "execution_count": null,
   "metadata": {
    "collapsed": false,
    "deletable": true,
    "editable": true,
    "scrolled": true
   },
   "outputs": [],
   "source": [
    "plt.spy(K[0:40,0:40])\n",
    "plt.show()"
   ]
  },
  {
   "cell_type": "markdown",
   "metadata": {
    "deletable": true,
    "editable": true
   },
   "source": [
    "Now, we must apply some boundary conditions. The bottom nodes are clamped, and the top nodes have a vertical load applied to them. Then, we use Scipy to solve the sparse system."
   ]
  },
  {
   "cell_type": "code",
   "execution_count": null,
   "metadata": {
    "collapsed": true,
    "deletable": true,
    "editable": true
   },
   "outputs": [],
   "source": [
    "# Bottom dirrichlet BCs\n",
    "marked_bot = cf.select_nodes(x, lambda a:a[1]<0.0001)\n",
    "bcdofs = dm_vector.Get_List(marked_bot)\n",
    "bcvals = np.zeros(bcdofs.shape,dtype=np.double)\n",
    "cf.Apply_BC(bcdofs,bcvals,  K,R)\n",
    "# Top loaded BCs\n",
    "marked_top = cf.select_nodes(x, lambda a:a[1]>1.0-0.0001)\n",
    "loaddofs = dm_vector.Get_List(marked_top).reshape(len(marked_top),2)[:,1] # Just the x's\n",
    "R[loaddofs] -= 0.5\n",
    "# Solve the system\n",
    "import scipy.sparse.linalg as splin\n",
    "u = -splin.spsolve(K,R)\n",
    "u = u.reshape(x.shape) # it comes out flat\n",
    "y += u"
   ]
  },
  {
   "cell_type": "markdown",
   "metadata": {
    "deletable": true,
    "editable": true
   },
   "source": [
    "Finally, this problem is trivial enough that we can just plot it inside of the notebook itself."
   ]
  },
  {
   "cell_type": "code",
   "execution_count": null,
   "metadata": {
    "collapsed": false,
    "deletable": true,
    "editable": true,
    "scrolled": false
   },
   "outputs": [],
   "source": [
    "plt.scatter(x[:,0],x[:,1])\n",
    "plt.scatter(y[:,0],y[:,1],color='k')\n",
    "for e in H:\n",
    "    plt.plot(y[e,0],y[e,1],color='k')\n",
    "plt.show()"
   ]
  },
  {
   "cell_type": "markdown",
   "metadata": {
    "deletable": true,
    "editable": true
   },
   "source": [
    "# Outro\n",
    "\n",
    "This was the simplest possible model. The next set of examples will demonstrate the full capabilities of popcorn and cornflakes."
   ]
  }
 ],
 "metadata": {
  "kernelspec": {
   "display_name": "Python 2",
   "language": "python",
   "name": "python2"
  },
  "language_info": {
   "codemirror_mode": {
    "name": "ipython",
    "version": 2
   },
   "file_extension": ".py",
   "mimetype": "text/x-python",
   "name": "python",
   "nbconvert_exporter": "python",
   "pygments_lexer": "ipython2",
   "version": "2.7.12"
  }
 },
 "nbformat": 4,
 "nbformat_minor": 2
}
